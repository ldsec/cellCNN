{
 "cells": [
  {
   "cell_type": "markdown",
   "metadata": {},
   "source": [
    "# Boxplots\n",
    "The script generates the boxplots used in the paper by reading the results from respective excell sheets \n",
    "Set the following parameters depending on which results to visualize:\n",
    "\n",
    "experiment = 'RRMS' or 'NIND'\n",
    "\n",
    "sampling = 'BagSample' or 'PerSample'\n",
    "\n",
    "metric = 'Accuracy' or 'Precision' or 'Recall' or 'F-score'"
   ]
  },
  {
   "cell_type": "code",
   "execution_count": 17,
   "metadata": {},
   "outputs": [
    {
     "data": {
      "application/vnd.plotly.v1+json": {
       "config": {
        "plotlyServerURL": "https://plot.ly"
       },
       "data": [
        {
         "marker": {
          "color": "indianred"
         },
         "name": "CellCnn <br>  Centralized",
         "type": "box",
         "y": [
          0.85714286,
          0.76923077,
          0.66666667,
          0.76923077,
          0.70588235,
          0.71428571,
          0.57142857,
          0.36363636,
          0.57142857,
          0.46153846
         ]
        },
        {
         "marker": {
          "color": "lightseagreen"
         },
         "name": "Local <br>  (N=2)",
         "type": "box",
         "y": [
          0.40145985,
          0.62937063,
          0.43307087,
          0.70105263,
          0.65985577,
          0.45535714,
          0.51655629,
          0.64233577,
          0.55882353,
          0.61111111
         ]
        },
        {
         "marker": {
          "color": "blue"
         },
         "name": "<i>PriCell</i> <br> (N=2)",
         "type": "box",
         "y": [
          0.57,
          0.76,
          0.66,
          0.36,
          0.86,
          0.86,
          0.77,
          0.46,
          0.67,
          0.57
         ]
        },
        {
         "marker": {
          "color": "lightseagreen"
         },
         "name": "Local  <br> (N=4)",
         "type": "box",
         "y": [
          0.43814433,
          0.62411348,
          0.62985348,
          0.62024666,
          0.51821125,
          0.43342391,
          0.39385848,
          0.47191011,
          0.45430809,
          0.63998764
         ]
        },
        {
         "marker": {
          "color": "blue"
         },
         "name": "<i>PriCell</i> <br> (N=4)",
         "type": "box",
         "y": [
          0.67,
          0.77,
          0.57,
          0.67,
          0.57,
          0.86,
          0.67,
          0.61,
          0.86,
          0.67
         ]
        },
        {
         "marker": {
          "color": "lightseagreen"
         },
         "name": "Local  <br> (N=6)",
         "type": "box",
         "y": [
          0.64845475,
          0.63950364,
          0.67559784,
          0.61070387,
          0.59621137,
          0.62238399,
          0.64133066,
          0.58143539,
          0.58984375,
          0.39042208
         ]
        },
        {
         "marker": {
          "color": "blue"
         },
         "name": "<i>PriCell</i> <br> (N=6)",
         "type": "box",
         "y": [
          0.77,
          0.67,
          0.71,
          0.86,
          0.57,
          0.61,
          0.57,
          0.77,
          0.75,
          0.61
         ]
        }
       ],
       "layout": {
        "annotations": [
         {
          "font": {
           "color": "black",
           "size": 14
          },
          "showarrow": false,
          "text": "p=0.62",
          "textangle": 0,
          "x": 1,
          "xref": "x",
          "y": 1.0914000000000001,
          "yref": "y domain"
         },
         {
          "font": {
           "color": "black",
           "size": 14
          },
          "showarrow": false,
          "text": "p=0.38",
          "textangle": 0,
          "x": 2,
          "xref": "x",
          "y": 1.1663000000000001,
          "yref": "y domain"
         },
         {
          "font": {
           "color": "black",
           "size": 14
          },
          "showarrow": false,
          "text": "p=0.62",
          "textangle": 0,
          "x": 3,
          "xref": "x",
          "y": 1.2412000000000003,
          "yref": "y domain"
         }
        ],
        "autosize": false,
        "boxgap": 0,
        "font": {
         "size": 18
        },
        "height": 550,
        "paper_bgcolor": "rgb(243, 243, 243)",
        "plot_bgcolor": "aliceblue",
        "shapes": [
         {
          "line": {
           "color": "green",
           "dash": "dash",
           "width": 3
          },
          "type": "line",
          "x0": 0,
          "x1": 1,
          "xref": "x domain",
          "y0": 0.6862745100000001,
          "y1": 0.6862745100000001,
          "yref": "y"
         },
         {
          "line": {
           "color": "black",
           "width": 2
          },
          "type": "line",
          "x0": 0,
          "x1": 0,
          "xref": "x",
          "y0": 1.01,
          "y1": 1.02,
          "yref": "y domain"
         },
         {
          "line": {
           "color": "black",
           "width": 2
          },
          "type": "line",
          "x0": 0,
          "x1": 2,
          "xref": "x",
          "y0": 1.02,
          "y1": 1.02,
          "yref": "y domain"
         },
         {
          "line": {
           "color": "black",
           "width": 2
          },
          "type": "line",
          "x0": 2,
          "x1": 2,
          "xref": "x",
          "y0": 1.01,
          "y1": 1.02,
          "yref": "y domain"
         },
         {
          "line": {
           "color": "black",
           "width": 2
          },
          "type": "line",
          "x0": 0,
          "x1": 0,
          "xref": "x",
          "y0": 1.08,
          "y1": 1.09,
          "yref": "y domain"
         },
         {
          "line": {
           "color": "black",
           "width": 2
          },
          "type": "line",
          "x0": 0,
          "x1": 4,
          "xref": "x",
          "y0": 1.09,
          "y1": 1.09,
          "yref": "y domain"
         },
         {
          "line": {
           "color": "black",
           "width": 2
          },
          "type": "line",
          "x0": 4,
          "x1": 4,
          "xref": "x",
          "y0": 1.08,
          "y1": 1.09,
          "yref": "y domain"
         },
         {
          "line": {
           "color": "black",
           "width": 2
          },
          "type": "line",
          "x0": 0,
          "x1": 0,
          "xref": "x",
          "y0": 1.15,
          "y1": 1.1600000000000001,
          "yref": "y domain"
         },
         {
          "line": {
           "color": "black",
           "width": 2
          },
          "type": "line",
          "x0": 0,
          "x1": 6,
          "xref": "x",
          "y0": 1.1600000000000001,
          "y1": 1.1600000000000001,
          "yref": "y domain"
         },
         {
          "line": {
           "color": "black",
           "width": 2
          },
          "type": "line",
          "x0": 6,
          "x1": 6,
          "xref": "x",
          "y0": 1.15,
          "y1": 1.1600000000000001,
          "yref": "y domain"
         }
        ],
        "showlegend": false,
        "template": {
         "data": {
          "bar": [
           {
            "error_x": {
             "color": "#2a3f5f"
            },
            "error_y": {
             "color": "#2a3f5f"
            },
            "marker": {
             "line": {
              "color": "#E5ECF6",
              "width": 0.5
             },
             "pattern": {
              "fillmode": "overlay",
              "size": 10,
              "solidity": 0.2
             }
            },
            "type": "bar"
           }
          ],
          "barpolar": [
           {
            "marker": {
             "line": {
              "color": "#E5ECF6",
              "width": 0.5
             },
             "pattern": {
              "fillmode": "overlay",
              "size": 10,
              "solidity": 0.2
             }
            },
            "type": "barpolar"
           }
          ],
          "carpet": [
           {
            "aaxis": {
             "endlinecolor": "#2a3f5f",
             "gridcolor": "white",
             "linecolor": "white",
             "minorgridcolor": "white",
             "startlinecolor": "#2a3f5f"
            },
            "baxis": {
             "endlinecolor": "#2a3f5f",
             "gridcolor": "white",
             "linecolor": "white",
             "minorgridcolor": "white",
             "startlinecolor": "#2a3f5f"
            },
            "type": "carpet"
           }
          ],
          "choropleth": [
           {
            "colorbar": {
             "outlinewidth": 0,
             "ticks": ""
            },
            "type": "choropleth"
           }
          ],
          "contour": [
           {
            "colorbar": {
             "outlinewidth": 0,
             "ticks": ""
            },
            "colorscale": [
             [
              0,
              "#0d0887"
             ],
             [
              0.1111111111111111,
              "#46039f"
             ],
             [
              0.2222222222222222,
              "#7201a8"
             ],
             [
              0.3333333333333333,
              "#9c179e"
             ],
             [
              0.4444444444444444,
              "#bd3786"
             ],
             [
              0.5555555555555556,
              "#d8576b"
             ],
             [
              0.6666666666666666,
              "#ed7953"
             ],
             [
              0.7777777777777778,
              "#fb9f3a"
             ],
             [
              0.8888888888888888,
              "#fdca26"
             ],
             [
              1,
              "#f0f921"
             ]
            ],
            "type": "contour"
           }
          ],
          "contourcarpet": [
           {
            "colorbar": {
             "outlinewidth": 0,
             "ticks": ""
            },
            "type": "contourcarpet"
           }
          ],
          "heatmap": [
           {
            "colorbar": {
             "outlinewidth": 0,
             "ticks": ""
            },
            "colorscale": [
             [
              0,
              "#0d0887"
             ],
             [
              0.1111111111111111,
              "#46039f"
             ],
             [
              0.2222222222222222,
              "#7201a8"
             ],
             [
              0.3333333333333333,
              "#9c179e"
             ],
             [
              0.4444444444444444,
              "#bd3786"
             ],
             [
              0.5555555555555556,
              "#d8576b"
             ],
             [
              0.6666666666666666,
              "#ed7953"
             ],
             [
              0.7777777777777778,
              "#fb9f3a"
             ],
             [
              0.8888888888888888,
              "#fdca26"
             ],
             [
              1,
              "#f0f921"
             ]
            ],
            "type": "heatmap"
           }
          ],
          "heatmapgl": [
           {
            "colorbar": {
             "outlinewidth": 0,
             "ticks": ""
            },
            "colorscale": [
             [
              0,
              "#0d0887"
             ],
             [
              0.1111111111111111,
              "#46039f"
             ],
             [
              0.2222222222222222,
              "#7201a8"
             ],
             [
              0.3333333333333333,
              "#9c179e"
             ],
             [
              0.4444444444444444,
              "#bd3786"
             ],
             [
              0.5555555555555556,
              "#d8576b"
             ],
             [
              0.6666666666666666,
              "#ed7953"
             ],
             [
              0.7777777777777778,
              "#fb9f3a"
             ],
             [
              0.8888888888888888,
              "#fdca26"
             ],
             [
              1,
              "#f0f921"
             ]
            ],
            "type": "heatmapgl"
           }
          ],
          "histogram": [
           {
            "marker": {
             "pattern": {
              "fillmode": "overlay",
              "size": 10,
              "solidity": 0.2
             }
            },
            "type": "histogram"
           }
          ],
          "histogram2d": [
           {
            "colorbar": {
             "outlinewidth": 0,
             "ticks": ""
            },
            "colorscale": [
             [
              0,
              "#0d0887"
             ],
             [
              0.1111111111111111,
              "#46039f"
             ],
             [
              0.2222222222222222,
              "#7201a8"
             ],
             [
              0.3333333333333333,
              "#9c179e"
             ],
             [
              0.4444444444444444,
              "#bd3786"
             ],
             [
              0.5555555555555556,
              "#d8576b"
             ],
             [
              0.6666666666666666,
              "#ed7953"
             ],
             [
              0.7777777777777778,
              "#fb9f3a"
             ],
             [
              0.8888888888888888,
              "#fdca26"
             ],
             [
              1,
              "#f0f921"
             ]
            ],
            "type": "histogram2d"
           }
          ],
          "histogram2dcontour": [
           {
            "colorbar": {
             "outlinewidth": 0,
             "ticks": ""
            },
            "colorscale": [
             [
              0,
              "#0d0887"
             ],
             [
              0.1111111111111111,
              "#46039f"
             ],
             [
              0.2222222222222222,
              "#7201a8"
             ],
             [
              0.3333333333333333,
              "#9c179e"
             ],
             [
              0.4444444444444444,
              "#bd3786"
             ],
             [
              0.5555555555555556,
              "#d8576b"
             ],
             [
              0.6666666666666666,
              "#ed7953"
             ],
             [
              0.7777777777777778,
              "#fb9f3a"
             ],
             [
              0.8888888888888888,
              "#fdca26"
             ],
             [
              1,
              "#f0f921"
             ]
            ],
            "type": "histogram2dcontour"
           }
          ],
          "mesh3d": [
           {
            "colorbar": {
             "outlinewidth": 0,
             "ticks": ""
            },
            "type": "mesh3d"
           }
          ],
          "parcoords": [
           {
            "line": {
             "colorbar": {
              "outlinewidth": 0,
              "ticks": ""
             }
            },
            "type": "parcoords"
           }
          ],
          "pie": [
           {
            "automargin": true,
            "type": "pie"
           }
          ],
          "scatter": [
           {
            "marker": {
             "colorbar": {
              "outlinewidth": 0,
              "ticks": ""
             }
            },
            "type": "scatter"
           }
          ],
          "scatter3d": [
           {
            "line": {
             "colorbar": {
              "outlinewidth": 0,
              "ticks": ""
             }
            },
            "marker": {
             "colorbar": {
              "outlinewidth": 0,
              "ticks": ""
             }
            },
            "type": "scatter3d"
           }
          ],
          "scattercarpet": [
           {
            "marker": {
             "colorbar": {
              "outlinewidth": 0,
              "ticks": ""
             }
            },
            "type": "scattercarpet"
           }
          ],
          "scattergeo": [
           {
            "marker": {
             "colorbar": {
              "outlinewidth": 0,
              "ticks": ""
             }
            },
            "type": "scattergeo"
           }
          ],
          "scattergl": [
           {
            "marker": {
             "colorbar": {
              "outlinewidth": 0,
              "ticks": ""
             }
            },
            "type": "scattergl"
           }
          ],
          "scattermapbox": [
           {
            "marker": {
             "colorbar": {
              "outlinewidth": 0,
              "ticks": ""
             }
            },
            "type": "scattermapbox"
           }
          ],
          "scatterpolar": [
           {
            "marker": {
             "colorbar": {
              "outlinewidth": 0,
              "ticks": ""
             }
            },
            "type": "scatterpolar"
           }
          ],
          "scatterpolargl": [
           {
            "marker": {
             "colorbar": {
              "outlinewidth": 0,
              "ticks": ""
             }
            },
            "type": "scatterpolargl"
           }
          ],
          "scatterternary": [
           {
            "marker": {
             "colorbar": {
              "outlinewidth": 0,
              "ticks": ""
             }
            },
            "type": "scatterternary"
           }
          ],
          "surface": [
           {
            "colorbar": {
             "outlinewidth": 0,
             "ticks": ""
            },
            "colorscale": [
             [
              0,
              "#0d0887"
             ],
             [
              0.1111111111111111,
              "#46039f"
             ],
             [
              0.2222222222222222,
              "#7201a8"
             ],
             [
              0.3333333333333333,
              "#9c179e"
             ],
             [
              0.4444444444444444,
              "#bd3786"
             ],
             [
              0.5555555555555556,
              "#d8576b"
             ],
             [
              0.6666666666666666,
              "#ed7953"
             ],
             [
              0.7777777777777778,
              "#fb9f3a"
             ],
             [
              0.8888888888888888,
              "#fdca26"
             ],
             [
              1,
              "#f0f921"
             ]
            ],
            "type": "surface"
           }
          ],
          "table": [
           {
            "cells": {
             "fill": {
              "color": "#EBF0F8"
             },
             "line": {
              "color": "white"
             }
            },
            "header": {
             "fill": {
              "color": "#C8D4E3"
             },
             "line": {
              "color": "white"
             }
            },
            "type": "table"
           }
          ]
         },
         "layout": {
          "annotationdefaults": {
           "arrowcolor": "#2a3f5f",
           "arrowhead": 0,
           "arrowwidth": 1
          },
          "autotypenumbers": "strict",
          "coloraxis": {
           "colorbar": {
            "outlinewidth": 0,
            "ticks": ""
           }
          },
          "colorscale": {
           "diverging": [
            [
             0,
             "#8e0152"
            ],
            [
             0.1,
             "#c51b7d"
            ],
            [
             0.2,
             "#de77ae"
            ],
            [
             0.3,
             "#f1b6da"
            ],
            [
             0.4,
             "#fde0ef"
            ],
            [
             0.5,
             "#f7f7f7"
            ],
            [
             0.6,
             "#e6f5d0"
            ],
            [
             0.7,
             "#b8e186"
            ],
            [
             0.8,
             "#7fbc41"
            ],
            [
             0.9,
             "#4d9221"
            ],
            [
             1,
             "#276419"
            ]
           ],
           "sequential": [
            [
             0,
             "#0d0887"
            ],
            [
             0.1111111111111111,
             "#46039f"
            ],
            [
             0.2222222222222222,
             "#7201a8"
            ],
            [
             0.3333333333333333,
             "#9c179e"
            ],
            [
             0.4444444444444444,
             "#bd3786"
            ],
            [
             0.5555555555555556,
             "#d8576b"
            ],
            [
             0.6666666666666666,
             "#ed7953"
            ],
            [
             0.7777777777777778,
             "#fb9f3a"
            ],
            [
             0.8888888888888888,
             "#fdca26"
            ],
            [
             1,
             "#f0f921"
            ]
           ],
           "sequentialminus": [
            [
             0,
             "#0d0887"
            ],
            [
             0.1111111111111111,
             "#46039f"
            ],
            [
             0.2222222222222222,
             "#7201a8"
            ],
            [
             0.3333333333333333,
             "#9c179e"
            ],
            [
             0.4444444444444444,
             "#bd3786"
            ],
            [
             0.5555555555555556,
             "#d8576b"
            ],
            [
             0.6666666666666666,
             "#ed7953"
            ],
            [
             0.7777777777777778,
             "#fb9f3a"
            ],
            [
             0.8888888888888888,
             "#fdca26"
            ],
            [
             1,
             "#f0f921"
            ]
           ]
          },
          "colorway": [
           "#636efa",
           "#EF553B",
           "#00cc96",
           "#ab63fa",
           "#FFA15A",
           "#19d3f3",
           "#FF6692",
           "#B6E880",
           "#FF97FF",
           "#FECB52"
          ],
          "font": {
           "color": "#2a3f5f"
          },
          "geo": {
           "bgcolor": "white",
           "lakecolor": "white",
           "landcolor": "#E5ECF6",
           "showlakes": true,
           "showland": true,
           "subunitcolor": "white"
          },
          "hoverlabel": {
           "align": "left"
          },
          "hovermode": "closest",
          "mapbox": {
           "style": "light"
          },
          "paper_bgcolor": "white",
          "plot_bgcolor": "#E5ECF6",
          "polar": {
           "angularaxis": {
            "gridcolor": "white",
            "linecolor": "white",
            "ticks": ""
           },
           "bgcolor": "#E5ECF6",
           "radialaxis": {
            "gridcolor": "white",
            "linecolor": "white",
            "ticks": ""
           }
          },
          "scene": {
           "xaxis": {
            "backgroundcolor": "#E5ECF6",
            "gridcolor": "white",
            "gridwidth": 2,
            "linecolor": "white",
            "showbackground": true,
            "ticks": "",
            "zerolinecolor": "white"
           },
           "yaxis": {
            "backgroundcolor": "#E5ECF6",
            "gridcolor": "white",
            "gridwidth": 2,
            "linecolor": "white",
            "showbackground": true,
            "ticks": "",
            "zerolinecolor": "white"
           },
           "zaxis": {
            "backgroundcolor": "#E5ECF6",
            "gridcolor": "white",
            "gridwidth": 2,
            "linecolor": "white",
            "showbackground": true,
            "ticks": "",
            "zerolinecolor": "white"
           }
          },
          "shapedefaults": {
           "line": {
            "color": "#2a3f5f"
           }
          },
          "ternary": {
           "aaxis": {
            "gridcolor": "white",
            "linecolor": "white",
            "ticks": ""
           },
           "baxis": {
            "gridcolor": "white",
            "linecolor": "white",
            "ticks": ""
           },
           "bgcolor": "#E5ECF6",
           "caxis": {
            "gridcolor": "white",
            "linecolor": "white",
            "ticks": ""
           }
          },
          "title": {
           "x": 0.05
          },
          "xaxis": {
           "automargin": true,
           "gridcolor": "white",
           "linecolor": "white",
           "ticks": "",
           "title": {
            "standoff": 15
           },
           "zerolinecolor": "white",
           "zerolinewidth": 2
          },
          "yaxis": {
           "automargin": true,
           "gridcolor": "white",
           "linecolor": "white",
           "ticks": "",
           "title": {
            "standoff": 15
           },
           "zerolinecolor": "white",
           "zerolinewidth": 2
          }
         }
        },
        "title": {
         "x": 0.5,
         "xanchor": "center",
         "y": 0.04,
         "yanchor": "top"
        },
        "width": 820,
        "xaxis": {
         "title": {
          "text": "HD vs. RRMS -  Phenotype Classification"
         }
        },
        "yaxis": {
         "range": [
          0.2,
          1.001
         ],
         "title": {
          "text": "F-score"
         }
        }
       }
      },
      "text/html": [
       "<div>                            <div id=\"6ad16bc0-469a-4b10-bbda-a2c69efadad3\" class=\"plotly-graph-div\" style=\"height:550px; width:820px;\"></div>            <script type=\"text/javascript\">                require([\"plotly\"], function(Plotly) {                    window.PLOTLYENV=window.PLOTLYENV || {};                                    if (document.getElementById(\"6ad16bc0-469a-4b10-bbda-a2c69efadad3\")) {                    Plotly.newPlot(                        \"6ad16bc0-469a-4b10-bbda-a2c69efadad3\",                        [{\"marker\":{\"color\":\"indianred\"},\"name\":\"CellCnn <br>  Centralized\",\"type\":\"box\",\"y\":[0.85714286,0.76923077,0.66666667,0.76923077,0.70588235,0.71428571,0.57142857,0.36363636,0.57142857,0.46153846]},{\"marker\":{\"color\":\"lightseagreen\"},\"name\":\"Local <br>  (N=2)\",\"type\":\"box\",\"y\":[0.40145985,0.62937063,0.43307087,0.70105263,0.65985577,0.45535714,0.51655629,0.64233577,0.55882353,0.61111111]},{\"marker\":{\"color\":\"blue\"},\"name\":\"<i>PriCell</i> <br> (N=2)\",\"type\":\"box\",\"y\":[0.57,0.76,0.66,0.36,0.86,0.86,0.77,0.46,0.67,0.57]},{\"marker\":{\"color\":\"lightseagreen\"},\"name\":\"Local  <br> (N=4)\",\"type\":\"box\",\"y\":[0.43814433,0.62411348,0.62985348,0.62024666,0.51821125,0.43342391,0.39385848,0.47191011,0.45430809,0.63998764]},{\"marker\":{\"color\":\"blue\"},\"name\":\"<i>PriCell</i> <br> (N=4)\",\"type\":\"box\",\"y\":[0.67,0.77,0.57,0.67,0.57,0.86,0.67,0.61,0.86,0.67]},{\"marker\":{\"color\":\"lightseagreen\"},\"name\":\"Local  <br> (N=6)\",\"type\":\"box\",\"y\":[0.64845475,0.63950364,0.67559784,0.61070387,0.59621137,0.62238399,0.64133066,0.58143539,0.58984375,0.39042208]},{\"marker\":{\"color\":\"blue\"},\"name\":\"<i>PriCell</i> <br> (N=6)\",\"type\":\"box\",\"y\":[0.77,0.67,0.71,0.86,0.57,0.61,0.57,0.77,0.75,0.61]}],                        {\"annotations\":[{\"font\":{\"color\":\"black\",\"size\":14},\"showarrow\":false,\"text\":\"p=0.62\",\"textangle\":0,\"x\":1.0,\"xref\":\"x\",\"y\":1.0914000000000001,\"yref\":\"y domain\"},{\"font\":{\"color\":\"black\",\"size\":14},\"showarrow\":false,\"text\":\"p=0.38\",\"textangle\":0,\"x\":2.0,\"xref\":\"x\",\"y\":1.1663000000000001,\"yref\":\"y domain\"},{\"font\":{\"color\":\"black\",\"size\":14},\"showarrow\":false,\"text\":\"p=0.62\",\"textangle\":0,\"x\":3.0,\"xref\":\"x\",\"y\":1.2412000000000003,\"yref\":\"y domain\"}],\"autosize\":false,\"boxgap\":0,\"font\":{\"size\":18},\"height\":550,\"paper_bgcolor\":\"rgb(243, 243, 243)\",\"plot_bgcolor\":\"aliceblue\",\"shapes\":[{\"line\":{\"color\":\"green\",\"dash\":\"dash\",\"width\":3},\"type\":\"line\",\"x0\":0,\"x1\":1,\"xref\":\"x domain\",\"y0\":0.6862745100000001,\"y1\":0.6862745100000001,\"yref\":\"y\"},{\"line\":{\"color\":\"black\",\"width\":2},\"type\":\"line\",\"x0\":0,\"x1\":0,\"xref\":\"x\",\"y0\":1.01,\"y1\":1.02,\"yref\":\"y domain\"},{\"line\":{\"color\":\"black\",\"width\":2},\"type\":\"line\",\"x0\":0,\"x1\":2,\"xref\":\"x\",\"y0\":1.02,\"y1\":1.02,\"yref\":\"y domain\"},{\"line\":{\"color\":\"black\",\"width\":2},\"type\":\"line\",\"x0\":2,\"x1\":2,\"xref\":\"x\",\"y0\":1.01,\"y1\":1.02,\"yref\":\"y domain\"},{\"line\":{\"color\":\"black\",\"width\":2},\"type\":\"line\",\"x0\":0,\"x1\":0,\"xref\":\"x\",\"y0\":1.08,\"y1\":1.09,\"yref\":\"y domain\"},{\"line\":{\"color\":\"black\",\"width\":2},\"type\":\"line\",\"x0\":0,\"x1\":4,\"xref\":\"x\",\"y0\":1.09,\"y1\":1.09,\"yref\":\"y domain\"},{\"line\":{\"color\":\"black\",\"width\":2},\"type\":\"line\",\"x0\":4,\"x1\":4,\"xref\":\"x\",\"y0\":1.08,\"y1\":1.09,\"yref\":\"y domain\"},{\"line\":{\"color\":\"black\",\"width\":2},\"type\":\"line\",\"x0\":0,\"x1\":0,\"xref\":\"x\",\"y0\":1.15,\"y1\":1.1600000000000001,\"yref\":\"y domain\"},{\"line\":{\"color\":\"black\",\"width\":2},\"type\":\"line\",\"x0\":0,\"x1\":6,\"xref\":\"x\",\"y0\":1.1600000000000001,\"y1\":1.1600000000000001,\"yref\":\"y domain\"},{\"line\":{\"color\":\"black\",\"width\":2},\"type\":\"line\",\"x0\":6,\"x1\":6,\"xref\":\"x\",\"y0\":1.15,\"y1\":1.1600000000000001,\"yref\":\"y domain\"}],\"showlegend\":false,\"template\":{\"data\":{\"bar\":[{\"error_x\":{\"color\":\"#2a3f5f\"},\"error_y\":{\"color\":\"#2a3f5f\"},\"marker\":{\"line\":{\"color\":\"#E5ECF6\",\"width\":0.5},\"pattern\":{\"fillmode\":\"overlay\",\"size\":10,\"solidity\":0.2}},\"type\":\"bar\"}],\"barpolar\":[{\"marker\":{\"line\":{\"color\":\"#E5ECF6\",\"width\":0.5},\"pattern\":{\"fillmode\":\"overlay\",\"size\":10,\"solidity\":0.2}},\"type\":\"barpolar\"}],\"carpet\":[{\"aaxis\":{\"endlinecolor\":\"#2a3f5f\",\"gridcolor\":\"white\",\"linecolor\":\"white\",\"minorgridcolor\":\"white\",\"startlinecolor\":\"#2a3f5f\"},\"baxis\":{\"endlinecolor\":\"#2a3f5f\",\"gridcolor\":\"white\",\"linecolor\":\"white\",\"minorgridcolor\":\"white\",\"startlinecolor\":\"#2a3f5f\"},\"type\":\"carpet\"}],\"choropleth\":[{\"colorbar\":{\"outlinewidth\":0,\"ticks\":\"\"},\"type\":\"choropleth\"}],\"contour\":[{\"colorbar\":{\"outlinewidth\":0,\"ticks\":\"\"},\"colorscale\":[[0.0,\"#0d0887\"],[0.1111111111111111,\"#46039f\"],[0.2222222222222222,\"#7201a8\"],[0.3333333333333333,\"#9c179e\"],[0.4444444444444444,\"#bd3786\"],[0.5555555555555556,\"#d8576b\"],[0.6666666666666666,\"#ed7953\"],[0.7777777777777778,\"#fb9f3a\"],[0.8888888888888888,\"#fdca26\"],[1.0,\"#f0f921\"]],\"type\":\"contour\"}],\"contourcarpet\":[{\"colorbar\":{\"outlinewidth\":0,\"ticks\":\"\"},\"type\":\"contourcarpet\"}],\"heatmap\":[{\"colorbar\":{\"outlinewidth\":0,\"ticks\":\"\"},\"colorscale\":[[0.0,\"#0d0887\"],[0.1111111111111111,\"#46039f\"],[0.2222222222222222,\"#7201a8\"],[0.3333333333333333,\"#9c179e\"],[0.4444444444444444,\"#bd3786\"],[0.5555555555555556,\"#d8576b\"],[0.6666666666666666,\"#ed7953\"],[0.7777777777777778,\"#fb9f3a\"],[0.8888888888888888,\"#fdca26\"],[1.0,\"#f0f921\"]],\"type\":\"heatmap\"}],\"heatmapgl\":[{\"colorbar\":{\"outlinewidth\":0,\"ticks\":\"\"},\"colorscale\":[[0.0,\"#0d0887\"],[0.1111111111111111,\"#46039f\"],[0.2222222222222222,\"#7201a8\"],[0.3333333333333333,\"#9c179e\"],[0.4444444444444444,\"#bd3786\"],[0.5555555555555556,\"#d8576b\"],[0.6666666666666666,\"#ed7953\"],[0.7777777777777778,\"#fb9f3a\"],[0.8888888888888888,\"#fdca26\"],[1.0,\"#f0f921\"]],\"type\":\"heatmapgl\"}],\"histogram\":[{\"marker\":{\"pattern\":{\"fillmode\":\"overlay\",\"size\":10,\"solidity\":0.2}},\"type\":\"histogram\"}],\"histogram2d\":[{\"colorbar\":{\"outlinewidth\":0,\"ticks\":\"\"},\"colorscale\":[[0.0,\"#0d0887\"],[0.1111111111111111,\"#46039f\"],[0.2222222222222222,\"#7201a8\"],[0.3333333333333333,\"#9c179e\"],[0.4444444444444444,\"#bd3786\"],[0.5555555555555556,\"#d8576b\"],[0.6666666666666666,\"#ed7953\"],[0.7777777777777778,\"#fb9f3a\"],[0.8888888888888888,\"#fdca26\"],[1.0,\"#f0f921\"]],\"type\":\"histogram2d\"}],\"histogram2dcontour\":[{\"colorbar\":{\"outlinewidth\":0,\"ticks\":\"\"},\"colorscale\":[[0.0,\"#0d0887\"],[0.1111111111111111,\"#46039f\"],[0.2222222222222222,\"#7201a8\"],[0.3333333333333333,\"#9c179e\"],[0.4444444444444444,\"#bd3786\"],[0.5555555555555556,\"#d8576b\"],[0.6666666666666666,\"#ed7953\"],[0.7777777777777778,\"#fb9f3a\"],[0.8888888888888888,\"#fdca26\"],[1.0,\"#f0f921\"]],\"type\":\"histogram2dcontour\"}],\"mesh3d\":[{\"colorbar\":{\"outlinewidth\":0,\"ticks\":\"\"},\"type\":\"mesh3d\"}],\"parcoords\":[{\"line\":{\"colorbar\":{\"outlinewidth\":0,\"ticks\":\"\"}},\"type\":\"parcoords\"}],\"pie\":[{\"automargin\":true,\"type\":\"pie\"}],\"scatter\":[{\"marker\":{\"colorbar\":{\"outlinewidth\":0,\"ticks\":\"\"}},\"type\":\"scatter\"}],\"scatter3d\":[{\"line\":{\"colorbar\":{\"outlinewidth\":0,\"ticks\":\"\"}},\"marker\":{\"colorbar\":{\"outlinewidth\":0,\"ticks\":\"\"}},\"type\":\"scatter3d\"}],\"scattercarpet\":[{\"marker\":{\"colorbar\":{\"outlinewidth\":0,\"ticks\":\"\"}},\"type\":\"scattercarpet\"}],\"scattergeo\":[{\"marker\":{\"colorbar\":{\"outlinewidth\":0,\"ticks\":\"\"}},\"type\":\"scattergeo\"}],\"scattergl\":[{\"marker\":{\"colorbar\":{\"outlinewidth\":0,\"ticks\":\"\"}},\"type\":\"scattergl\"}],\"scattermapbox\":[{\"marker\":{\"colorbar\":{\"outlinewidth\":0,\"ticks\":\"\"}},\"type\":\"scattermapbox\"}],\"scatterpolar\":[{\"marker\":{\"colorbar\":{\"outlinewidth\":0,\"ticks\":\"\"}},\"type\":\"scatterpolar\"}],\"scatterpolargl\":[{\"marker\":{\"colorbar\":{\"outlinewidth\":0,\"ticks\":\"\"}},\"type\":\"scatterpolargl\"}],\"scatterternary\":[{\"marker\":{\"colorbar\":{\"outlinewidth\":0,\"ticks\":\"\"}},\"type\":\"scatterternary\"}],\"surface\":[{\"colorbar\":{\"outlinewidth\":0,\"ticks\":\"\"},\"colorscale\":[[0.0,\"#0d0887\"],[0.1111111111111111,\"#46039f\"],[0.2222222222222222,\"#7201a8\"],[0.3333333333333333,\"#9c179e\"],[0.4444444444444444,\"#bd3786\"],[0.5555555555555556,\"#d8576b\"],[0.6666666666666666,\"#ed7953\"],[0.7777777777777778,\"#fb9f3a\"],[0.8888888888888888,\"#fdca26\"],[1.0,\"#f0f921\"]],\"type\":\"surface\"}],\"table\":[{\"cells\":{\"fill\":{\"color\":\"#EBF0F8\"},\"line\":{\"color\":\"white\"}},\"header\":{\"fill\":{\"color\":\"#C8D4E3\"},\"line\":{\"color\":\"white\"}},\"type\":\"table\"}]},\"layout\":{\"annotationdefaults\":{\"arrowcolor\":\"#2a3f5f\",\"arrowhead\":0,\"arrowwidth\":1},\"autotypenumbers\":\"strict\",\"coloraxis\":{\"colorbar\":{\"outlinewidth\":0,\"ticks\":\"\"}},\"colorscale\":{\"diverging\":[[0,\"#8e0152\"],[0.1,\"#c51b7d\"],[0.2,\"#de77ae\"],[0.3,\"#f1b6da\"],[0.4,\"#fde0ef\"],[0.5,\"#f7f7f7\"],[0.6,\"#e6f5d0\"],[0.7,\"#b8e186\"],[0.8,\"#7fbc41\"],[0.9,\"#4d9221\"],[1,\"#276419\"]],\"sequential\":[[0.0,\"#0d0887\"],[0.1111111111111111,\"#46039f\"],[0.2222222222222222,\"#7201a8\"],[0.3333333333333333,\"#9c179e\"],[0.4444444444444444,\"#bd3786\"],[0.5555555555555556,\"#d8576b\"],[0.6666666666666666,\"#ed7953\"],[0.7777777777777778,\"#fb9f3a\"],[0.8888888888888888,\"#fdca26\"],[1.0,\"#f0f921\"]],\"sequentialminus\":[[0.0,\"#0d0887\"],[0.1111111111111111,\"#46039f\"],[0.2222222222222222,\"#7201a8\"],[0.3333333333333333,\"#9c179e\"],[0.4444444444444444,\"#bd3786\"],[0.5555555555555556,\"#d8576b\"],[0.6666666666666666,\"#ed7953\"],[0.7777777777777778,\"#fb9f3a\"],[0.8888888888888888,\"#fdca26\"],[1.0,\"#f0f921\"]]},\"colorway\":[\"#636efa\",\"#EF553B\",\"#00cc96\",\"#ab63fa\",\"#FFA15A\",\"#19d3f3\",\"#FF6692\",\"#B6E880\",\"#FF97FF\",\"#FECB52\"],\"font\":{\"color\":\"#2a3f5f\"},\"geo\":{\"bgcolor\":\"white\",\"lakecolor\":\"white\",\"landcolor\":\"#E5ECF6\",\"showlakes\":true,\"showland\":true,\"subunitcolor\":\"white\"},\"hoverlabel\":{\"align\":\"left\"},\"hovermode\":\"closest\",\"mapbox\":{\"style\":\"light\"},\"paper_bgcolor\":\"white\",\"plot_bgcolor\":\"#E5ECF6\",\"polar\":{\"angularaxis\":{\"gridcolor\":\"white\",\"linecolor\":\"white\",\"ticks\":\"\"},\"bgcolor\":\"#E5ECF6\",\"radialaxis\":{\"gridcolor\":\"white\",\"linecolor\":\"white\",\"ticks\":\"\"}},\"scene\":{\"xaxis\":{\"backgroundcolor\":\"#E5ECF6\",\"gridcolor\":\"white\",\"gridwidth\":2,\"linecolor\":\"white\",\"showbackground\":true,\"ticks\":\"\",\"zerolinecolor\":\"white\"},\"yaxis\":{\"backgroundcolor\":\"#E5ECF6\",\"gridcolor\":\"white\",\"gridwidth\":2,\"linecolor\":\"white\",\"showbackground\":true,\"ticks\":\"\",\"zerolinecolor\":\"white\"},\"zaxis\":{\"backgroundcolor\":\"#E5ECF6\",\"gridcolor\":\"white\",\"gridwidth\":2,\"linecolor\":\"white\",\"showbackground\":true,\"ticks\":\"\",\"zerolinecolor\":\"white\"}},\"shapedefaults\":{\"line\":{\"color\":\"#2a3f5f\"}},\"ternary\":{\"aaxis\":{\"gridcolor\":\"white\",\"linecolor\":\"white\",\"ticks\":\"\"},\"baxis\":{\"gridcolor\":\"white\",\"linecolor\":\"white\",\"ticks\":\"\"},\"bgcolor\":\"#E5ECF6\",\"caxis\":{\"gridcolor\":\"white\",\"linecolor\":\"white\",\"ticks\":\"\"}},\"title\":{\"x\":0.05},\"xaxis\":{\"automargin\":true,\"gridcolor\":\"white\",\"linecolor\":\"white\",\"ticks\":\"\",\"title\":{\"standoff\":15},\"zerolinecolor\":\"white\",\"zerolinewidth\":2},\"yaxis\":{\"automargin\":true,\"gridcolor\":\"white\",\"linecolor\":\"white\",\"ticks\":\"\",\"title\":{\"standoff\":15},\"zerolinecolor\":\"white\",\"zerolinewidth\":2}}},\"title\":{\"x\":0.5,\"xanchor\":\"center\",\"y\":0.04,\"yanchor\":\"top\"},\"width\":820,\"xaxis\":{\"title\":{\"text\":\"HD vs. RRMS -  Phenotype Classification\"}},\"yaxis\":{\"range\":[0.2,1.001],\"title\":{\"text\":\"F-score\"}}},                        {\"responsive\": true}                    ).then(function(){\n",
       "                            \n",
       "var gd = document.getElementById('6ad16bc0-469a-4b10-bbda-a2c69efadad3');\n",
       "var x = new MutationObserver(function (mutations, observer) {{\n",
       "        var display = window.getComputedStyle(gd).display;\n",
       "        if (!display || display === 'none') {{\n",
       "            console.log([gd, 'removed!']);\n",
       "            Plotly.purge(gd);\n",
       "            observer.disconnect();\n",
       "        }}\n",
       "}});\n",
       "\n",
       "// Listen for the removal of the full notebook cells\n",
       "var notebookContainer = gd.closest('#notebook-container');\n",
       "if (notebookContainer) {{\n",
       "    x.observe(notebookContainer, {childList: true});\n",
       "}}\n",
       "\n",
       "// Listen for the clearing of the current output cell\n",
       "var outputEl = gd.closest('.output');\n",
       "if (outputEl) {{\n",
       "    x.observe(outputEl, {childList: true});\n",
       "}}\n",
       "\n",
       "                        })                };                });            </script>        </div>"
      ]
     },
     "metadata": {},
     "output_type": "display_data"
    },
    {
     "data": {
      "application/vnd.plotly.v1+json": {
       "config": {
        "plotlyServerURL": "https://plot.ly"
       },
       "data": [
        {
         "marker": {
          "color": "indianred"
         },
         "name": "CellCnn  <br> Centralized",
         "type": "box",
         "y": [
          0.85714286,
          0.66666667,
          0.65263158,
          0.76923077,
          0.71212121,
          0.70588235,
          0.61403509,
          0.37777778,
          0.54545455,
          0.47272727
         ]
        },
        {
         "marker": {
          "color": "lightseagreen"
         },
         "name": "Local  <br> (N=2)",
         "type": "box",
         "y": [
          0.39375275,
          0.58477419,
          0.43554884,
          0.7113522,
          0.66842401,
          0.48809344,
          0.4966443,
          0.6611472,
          0.49744115,
          0.60323938
         ]
        },
        {
         "marker": {
          "color": "blue"
         },
         "name": "<i>PriCell</i> <br>  (N=2)",
         "type": "box",
         "y": [
          0.57,
          0.76,
          0.62,
          0.56,
          0.85,
          0.83,
          0.72,
          0.47,
          0.62,
          0.68
         ]
        },
        {
         "marker": {
          "color": "lightseagreen"
         },
         "name": "Local <br>  (N=4)",
         "type": "box",
         "y": [
          0.46371711,
          0.61231429,
          0.624046,
          0.62438897,
          0.53743573,
          0.45686693,
          0.40236616,
          0.49146136,
          0.45980996,
          0.63573286
         ]
        },
        {
         "marker": {
          "color": "blue"
         },
         "name": "<i>PriCell</i> <br> (N=4)",
         "type": "box",
         "y": [
          0.68,
          0.77,
          0.59,
          0.7,
          0.57,
          0.86,
          0.61,
          0.7,
          0.79,
          0.68
         ]
        },
        {
         "marker": {
          "color": "lightseagreen"
         },
         "name": "Local <br>  (N=6)",
         "type": "box",
         "y": [
          0.63602477,
          0.63228398,
          0.64974977,
          0.60164568,
          0.59122029,
          0.61062577,
          0.6273216,
          0.59106259,
          0.56293191,
          0.39845072
         ]
        },
        {
         "marker": {
          "color": "blue"
         },
         "name": "<i>PriCell</i> <br>  (N=6)",
         "type": "box",
         "y": [
          0.77,
          0.68,
          0.71,
          0.86,
          0.61,
          0.68,
          0.6,
          0.77,
          0.71,
          0.63
         ]
        }
       ],
       "layout": {
        "annotations": [
         {
          "font": {
           "color": "black",
           "size": 14
          },
          "showarrow": false,
          "text": "p=0.49",
          "textangle": 0,
          "x": 1,
          "xref": "x",
          "y": 1.0914000000000001,
          "yref": "y domain"
         },
         {
          "font": {
           "color": "black",
           "size": 14
          },
          "showarrow": false,
          "text": "p=0.38",
          "textangle": 0,
          "x": 2,
          "xref": "x",
          "y": 1.1663000000000001,
          "yref": "y domain"
         },
         {
          "font": {
           "color": "black",
           "size": 14
          },
          "showarrow": false,
          "text": "p=0.32",
          "textangle": 0,
          "x": 3,
          "xref": "x",
          "y": 1.2412000000000003,
          "yref": "y domain"
         }
        ],
        "autosize": false,
        "boxgap": 0,
        "font": {
         "size": 18
        },
        "height": 550,
        "paper_bgcolor": "rgb(243, 243, 243)",
        "plot_bgcolor": "aliceblue",
        "shapes": [
         {
          "line": {
           "color": "green",
           "dash": "dash",
           "width": 3
          },
          "type": "line",
          "x0": 0,
          "x1": 1,
          "xref": "x domain",
          "y0": 0.6596491250000001,
          "y1": 0.6596491250000001,
          "yref": "y"
         },
         {
          "line": {
           "color": "black",
           "width": 2
          },
          "type": "line",
          "x0": 0,
          "x1": 0,
          "xref": "x",
          "y0": 1.01,
          "y1": 1.02,
          "yref": "y domain"
         },
         {
          "line": {
           "color": "black",
           "width": 2
          },
          "type": "line",
          "x0": 0,
          "x1": 2,
          "xref": "x",
          "y0": 1.02,
          "y1": 1.02,
          "yref": "y domain"
         },
         {
          "line": {
           "color": "black",
           "width": 2
          },
          "type": "line",
          "x0": 2,
          "x1": 2,
          "xref": "x",
          "y0": 1.01,
          "y1": 1.02,
          "yref": "y domain"
         },
         {
          "line": {
           "color": "black",
           "width": 2
          },
          "type": "line",
          "x0": 0,
          "x1": 0,
          "xref": "x",
          "y0": 1.08,
          "y1": 1.09,
          "yref": "y domain"
         },
         {
          "line": {
           "color": "black",
           "width": 2
          },
          "type": "line",
          "x0": 0,
          "x1": 4,
          "xref": "x",
          "y0": 1.09,
          "y1": 1.09,
          "yref": "y domain"
         },
         {
          "line": {
           "color": "black",
           "width": 2
          },
          "type": "line",
          "x0": 4,
          "x1": 4,
          "xref": "x",
          "y0": 1.08,
          "y1": 1.09,
          "yref": "y domain"
         },
         {
          "line": {
           "color": "black",
           "width": 2
          },
          "type": "line",
          "x0": 0,
          "x1": 0,
          "xref": "x",
          "y0": 1.15,
          "y1": 1.1600000000000001,
          "yref": "y domain"
         },
         {
          "line": {
           "color": "black",
           "width": 2
          },
          "type": "line",
          "x0": 0,
          "x1": 6,
          "xref": "x",
          "y0": 1.1600000000000001,
          "y1": 1.1600000000000001,
          "yref": "y domain"
         },
         {
          "line": {
           "color": "black",
           "width": 2
          },
          "type": "line",
          "x0": 6,
          "x1": 6,
          "xref": "x",
          "y0": 1.15,
          "y1": 1.1600000000000001,
          "yref": "y domain"
         }
        ],
        "showlegend": false,
        "template": {
         "data": {
          "bar": [
           {
            "error_x": {
             "color": "#2a3f5f"
            },
            "error_y": {
             "color": "#2a3f5f"
            },
            "marker": {
             "line": {
              "color": "#E5ECF6",
              "width": 0.5
             },
             "pattern": {
              "fillmode": "overlay",
              "size": 10,
              "solidity": 0.2
             }
            },
            "type": "bar"
           }
          ],
          "barpolar": [
           {
            "marker": {
             "line": {
              "color": "#E5ECF6",
              "width": 0.5
             },
             "pattern": {
              "fillmode": "overlay",
              "size": 10,
              "solidity": 0.2
             }
            },
            "type": "barpolar"
           }
          ],
          "carpet": [
           {
            "aaxis": {
             "endlinecolor": "#2a3f5f",
             "gridcolor": "white",
             "linecolor": "white",
             "minorgridcolor": "white",
             "startlinecolor": "#2a3f5f"
            },
            "baxis": {
             "endlinecolor": "#2a3f5f",
             "gridcolor": "white",
             "linecolor": "white",
             "minorgridcolor": "white",
             "startlinecolor": "#2a3f5f"
            },
            "type": "carpet"
           }
          ],
          "choropleth": [
           {
            "colorbar": {
             "outlinewidth": 0,
             "ticks": ""
            },
            "type": "choropleth"
           }
          ],
          "contour": [
           {
            "colorbar": {
             "outlinewidth": 0,
             "ticks": ""
            },
            "colorscale": [
             [
              0,
              "#0d0887"
             ],
             [
              0.1111111111111111,
              "#46039f"
             ],
             [
              0.2222222222222222,
              "#7201a8"
             ],
             [
              0.3333333333333333,
              "#9c179e"
             ],
             [
              0.4444444444444444,
              "#bd3786"
             ],
             [
              0.5555555555555556,
              "#d8576b"
             ],
             [
              0.6666666666666666,
              "#ed7953"
             ],
             [
              0.7777777777777778,
              "#fb9f3a"
             ],
             [
              0.8888888888888888,
              "#fdca26"
             ],
             [
              1,
              "#f0f921"
             ]
            ],
            "type": "contour"
           }
          ],
          "contourcarpet": [
           {
            "colorbar": {
             "outlinewidth": 0,
             "ticks": ""
            },
            "type": "contourcarpet"
           }
          ],
          "heatmap": [
           {
            "colorbar": {
             "outlinewidth": 0,
             "ticks": ""
            },
            "colorscale": [
             [
              0,
              "#0d0887"
             ],
             [
              0.1111111111111111,
              "#46039f"
             ],
             [
              0.2222222222222222,
              "#7201a8"
             ],
             [
              0.3333333333333333,
              "#9c179e"
             ],
             [
              0.4444444444444444,
              "#bd3786"
             ],
             [
              0.5555555555555556,
              "#d8576b"
             ],
             [
              0.6666666666666666,
              "#ed7953"
             ],
             [
              0.7777777777777778,
              "#fb9f3a"
             ],
             [
              0.8888888888888888,
              "#fdca26"
             ],
             [
              1,
              "#f0f921"
             ]
            ],
            "type": "heatmap"
           }
          ],
          "heatmapgl": [
           {
            "colorbar": {
             "outlinewidth": 0,
             "ticks": ""
            },
            "colorscale": [
             [
              0,
              "#0d0887"
             ],
             [
              0.1111111111111111,
              "#46039f"
             ],
             [
              0.2222222222222222,
              "#7201a8"
             ],
             [
              0.3333333333333333,
              "#9c179e"
             ],
             [
              0.4444444444444444,
              "#bd3786"
             ],
             [
              0.5555555555555556,
              "#d8576b"
             ],
             [
              0.6666666666666666,
              "#ed7953"
             ],
             [
              0.7777777777777778,
              "#fb9f3a"
             ],
             [
              0.8888888888888888,
              "#fdca26"
             ],
             [
              1,
              "#f0f921"
             ]
            ],
            "type": "heatmapgl"
           }
          ],
          "histogram": [
           {
            "marker": {
             "pattern": {
              "fillmode": "overlay",
              "size": 10,
              "solidity": 0.2
             }
            },
            "type": "histogram"
           }
          ],
          "histogram2d": [
           {
            "colorbar": {
             "outlinewidth": 0,
             "ticks": ""
            },
            "colorscale": [
             [
              0,
              "#0d0887"
             ],
             [
              0.1111111111111111,
              "#46039f"
             ],
             [
              0.2222222222222222,
              "#7201a8"
             ],
             [
              0.3333333333333333,
              "#9c179e"
             ],
             [
              0.4444444444444444,
              "#bd3786"
             ],
             [
              0.5555555555555556,
              "#d8576b"
             ],
             [
              0.6666666666666666,
              "#ed7953"
             ],
             [
              0.7777777777777778,
              "#fb9f3a"
             ],
             [
              0.8888888888888888,
              "#fdca26"
             ],
             [
              1,
              "#f0f921"
             ]
            ],
            "type": "histogram2d"
           }
          ],
          "histogram2dcontour": [
           {
            "colorbar": {
             "outlinewidth": 0,
             "ticks": ""
            },
            "colorscale": [
             [
              0,
              "#0d0887"
             ],
             [
              0.1111111111111111,
              "#46039f"
             ],
             [
              0.2222222222222222,
              "#7201a8"
             ],
             [
              0.3333333333333333,
              "#9c179e"
             ],
             [
              0.4444444444444444,
              "#bd3786"
             ],
             [
              0.5555555555555556,
              "#d8576b"
             ],
             [
              0.6666666666666666,
              "#ed7953"
             ],
             [
              0.7777777777777778,
              "#fb9f3a"
             ],
             [
              0.8888888888888888,
              "#fdca26"
             ],
             [
              1,
              "#f0f921"
             ]
            ],
            "type": "histogram2dcontour"
           }
          ],
          "mesh3d": [
           {
            "colorbar": {
             "outlinewidth": 0,
             "ticks": ""
            },
            "type": "mesh3d"
           }
          ],
          "parcoords": [
           {
            "line": {
             "colorbar": {
              "outlinewidth": 0,
              "ticks": ""
             }
            },
            "type": "parcoords"
           }
          ],
          "pie": [
           {
            "automargin": true,
            "type": "pie"
           }
          ],
          "scatter": [
           {
            "marker": {
             "colorbar": {
              "outlinewidth": 0,
              "ticks": ""
             }
            },
            "type": "scatter"
           }
          ],
          "scatter3d": [
           {
            "line": {
             "colorbar": {
              "outlinewidth": 0,
              "ticks": ""
             }
            },
            "marker": {
             "colorbar": {
              "outlinewidth": 0,
              "ticks": ""
             }
            },
            "type": "scatter3d"
           }
          ],
          "scattercarpet": [
           {
            "marker": {
             "colorbar": {
              "outlinewidth": 0,
              "ticks": ""
             }
            },
            "type": "scattercarpet"
           }
          ],
          "scattergeo": [
           {
            "marker": {
             "colorbar": {
              "outlinewidth": 0,
              "ticks": ""
             }
            },
            "type": "scattergeo"
           }
          ],
          "scattergl": [
           {
            "marker": {
             "colorbar": {
              "outlinewidth": 0,
              "ticks": ""
             }
            },
            "type": "scattergl"
           }
          ],
          "scattermapbox": [
           {
            "marker": {
             "colorbar": {
              "outlinewidth": 0,
              "ticks": ""
             }
            },
            "type": "scattermapbox"
           }
          ],
          "scatterpolar": [
           {
            "marker": {
             "colorbar": {
              "outlinewidth": 0,
              "ticks": ""
             }
            },
            "type": "scatterpolar"
           }
          ],
          "scatterpolargl": [
           {
            "marker": {
             "colorbar": {
              "outlinewidth": 0,
              "ticks": ""
             }
            },
            "type": "scatterpolargl"
           }
          ],
          "scatterternary": [
           {
            "marker": {
             "colorbar": {
              "outlinewidth": 0,
              "ticks": ""
             }
            },
            "type": "scatterternary"
           }
          ],
          "surface": [
           {
            "colorbar": {
             "outlinewidth": 0,
             "ticks": ""
            },
            "colorscale": [
             [
              0,
              "#0d0887"
             ],
             [
              0.1111111111111111,
              "#46039f"
             ],
             [
              0.2222222222222222,
              "#7201a8"
             ],
             [
              0.3333333333333333,
              "#9c179e"
             ],
             [
              0.4444444444444444,
              "#bd3786"
             ],
             [
              0.5555555555555556,
              "#d8576b"
             ],
             [
              0.6666666666666666,
              "#ed7953"
             ],
             [
              0.7777777777777778,
              "#fb9f3a"
             ],
             [
              0.8888888888888888,
              "#fdca26"
             ],
             [
              1,
              "#f0f921"
             ]
            ],
            "type": "surface"
           }
          ],
          "table": [
           {
            "cells": {
             "fill": {
              "color": "#EBF0F8"
             },
             "line": {
              "color": "white"
             }
            },
            "header": {
             "fill": {
              "color": "#C8D4E3"
             },
             "line": {
              "color": "white"
             }
            },
            "type": "table"
           }
          ]
         },
         "layout": {
          "annotationdefaults": {
           "arrowcolor": "#2a3f5f",
           "arrowhead": 0,
           "arrowwidth": 1
          },
          "autotypenumbers": "strict",
          "coloraxis": {
           "colorbar": {
            "outlinewidth": 0,
            "ticks": ""
           }
          },
          "colorscale": {
           "diverging": [
            [
             0,
             "#8e0152"
            ],
            [
             0.1,
             "#c51b7d"
            ],
            [
             0.2,
             "#de77ae"
            ],
            [
             0.3,
             "#f1b6da"
            ],
            [
             0.4,
             "#fde0ef"
            ],
            [
             0.5,
             "#f7f7f7"
            ],
            [
             0.6,
             "#e6f5d0"
            ],
            [
             0.7,
             "#b8e186"
            ],
            [
             0.8,
             "#7fbc41"
            ],
            [
             0.9,
             "#4d9221"
            ],
            [
             1,
             "#276419"
            ]
           ],
           "sequential": [
            [
             0,
             "#0d0887"
            ],
            [
             0.1111111111111111,
             "#46039f"
            ],
            [
             0.2222222222222222,
             "#7201a8"
            ],
            [
             0.3333333333333333,
             "#9c179e"
            ],
            [
             0.4444444444444444,
             "#bd3786"
            ],
            [
             0.5555555555555556,
             "#d8576b"
            ],
            [
             0.6666666666666666,
             "#ed7953"
            ],
            [
             0.7777777777777778,
             "#fb9f3a"
            ],
            [
             0.8888888888888888,
             "#fdca26"
            ],
            [
             1,
             "#f0f921"
            ]
           ],
           "sequentialminus": [
            [
             0,
             "#0d0887"
            ],
            [
             0.1111111111111111,
             "#46039f"
            ],
            [
             0.2222222222222222,
             "#7201a8"
            ],
            [
             0.3333333333333333,
             "#9c179e"
            ],
            [
             0.4444444444444444,
             "#bd3786"
            ],
            [
             0.5555555555555556,
             "#d8576b"
            ],
            [
             0.6666666666666666,
             "#ed7953"
            ],
            [
             0.7777777777777778,
             "#fb9f3a"
            ],
            [
             0.8888888888888888,
             "#fdca26"
            ],
            [
             1,
             "#f0f921"
            ]
           ]
          },
          "colorway": [
           "#636efa",
           "#EF553B",
           "#00cc96",
           "#ab63fa",
           "#FFA15A",
           "#19d3f3",
           "#FF6692",
           "#B6E880",
           "#FF97FF",
           "#FECB52"
          ],
          "font": {
           "color": "#2a3f5f"
          },
          "geo": {
           "bgcolor": "white",
           "lakecolor": "white",
           "landcolor": "#E5ECF6",
           "showlakes": true,
           "showland": true,
           "subunitcolor": "white"
          },
          "hoverlabel": {
           "align": "left"
          },
          "hovermode": "closest",
          "mapbox": {
           "style": "light"
          },
          "paper_bgcolor": "white",
          "plot_bgcolor": "#E5ECF6",
          "polar": {
           "angularaxis": {
            "gridcolor": "white",
            "linecolor": "white",
            "ticks": ""
           },
           "bgcolor": "#E5ECF6",
           "radialaxis": {
            "gridcolor": "white",
            "linecolor": "white",
            "ticks": ""
           }
          },
          "scene": {
           "xaxis": {
            "backgroundcolor": "#E5ECF6",
            "gridcolor": "white",
            "gridwidth": 2,
            "linecolor": "white",
            "showbackground": true,
            "ticks": "",
            "zerolinecolor": "white"
           },
           "yaxis": {
            "backgroundcolor": "#E5ECF6",
            "gridcolor": "white",
            "gridwidth": 2,
            "linecolor": "white",
            "showbackground": true,
            "ticks": "",
            "zerolinecolor": "white"
           },
           "zaxis": {
            "backgroundcolor": "#E5ECF6",
            "gridcolor": "white",
            "gridwidth": 2,
            "linecolor": "white",
            "showbackground": true,
            "ticks": "",
            "zerolinecolor": "white"
           }
          },
          "shapedefaults": {
           "line": {
            "color": "#2a3f5f"
           }
          },
          "ternary": {
           "aaxis": {
            "gridcolor": "white",
            "linecolor": "white",
            "ticks": ""
           },
           "baxis": {
            "gridcolor": "white",
            "linecolor": "white",
            "ticks": ""
           },
           "bgcolor": "#E5ECF6",
           "caxis": {
            "gridcolor": "white",
            "linecolor": "white",
            "ticks": ""
           }
          },
          "title": {
           "x": 0.05
          },
          "xaxis": {
           "automargin": true,
           "gridcolor": "white",
           "linecolor": "white",
           "ticks": "",
           "title": {
            "standoff": 15
           },
           "zerolinecolor": "white",
           "zerolinewidth": 2
          },
          "yaxis": {
           "automargin": true,
           "gridcolor": "white",
           "linecolor": "white",
           "ticks": "",
           "title": {
            "standoff": 15
           },
           "zerolinecolor": "white",
           "zerolinewidth": 2
          }
         }
        },
        "title": {
         "x": 0.5,
         "xanchor": "center",
         "y": 0.04,
         "yanchor": "top"
        },
        "width": 820,
        "xaxis": {
         "title": {
          "text": "HD vs. RRMS -  Multi-Cell Classification"
         }
        },
        "yaxis": {
         "range": [
          0.2,
          1.001
         ],
         "title": {
          "text": "F-score"
         }
        }
       }
      },
      "text/html": [
       "<div>                            <div id=\"d858bdb8-5199-4e90-b977-76bfe386f506\" class=\"plotly-graph-div\" style=\"height:550px; width:820px;\"></div>            <script type=\"text/javascript\">                require([\"plotly\"], function(Plotly) {                    window.PLOTLYENV=window.PLOTLYENV || {};                                    if (document.getElementById(\"d858bdb8-5199-4e90-b977-76bfe386f506\")) {                    Plotly.newPlot(                        \"d858bdb8-5199-4e90-b977-76bfe386f506\",                        [{\"marker\":{\"color\":\"indianred\"},\"name\":\"CellCnn  <br> Centralized\",\"type\":\"box\",\"y\":[0.85714286,0.66666667,0.65263158,0.76923077,0.71212121,0.70588235,0.61403509,0.37777778,0.54545455,0.47272727]},{\"marker\":{\"color\":\"lightseagreen\"},\"name\":\"Local  <br> (N=2)\",\"type\":\"box\",\"y\":[0.39375275,0.58477419,0.43554884,0.7113522,0.66842401,0.48809344,0.4966443,0.6611472,0.49744115,0.60323938]},{\"marker\":{\"color\":\"blue\"},\"name\":\"<i>PriCell</i> <br>  (N=2)\",\"type\":\"box\",\"y\":[0.57,0.76,0.62,0.56,0.85,0.83,0.72,0.47,0.62,0.68]},{\"marker\":{\"color\":\"lightseagreen\"},\"name\":\"Local <br>  (N=4)\",\"type\":\"box\",\"y\":[0.46371711,0.61231429,0.624046,0.62438897,0.53743573,0.45686693,0.40236616,0.49146136,0.45980996,0.63573286]},{\"marker\":{\"color\":\"blue\"},\"name\":\"<i>PriCell</i> <br> (N=4)\",\"type\":\"box\",\"y\":[0.68,0.77,0.59,0.7,0.57,0.86,0.61,0.7,0.79,0.68]},{\"marker\":{\"color\":\"lightseagreen\"},\"name\":\"Local <br>  (N=6)\",\"type\":\"box\",\"y\":[0.63602477,0.63228398,0.64974977,0.60164568,0.59122029,0.61062577,0.6273216,0.59106259,0.56293191,0.39845072]},{\"marker\":{\"color\":\"blue\"},\"name\":\"<i>PriCell</i> <br>  (N=6)\",\"type\":\"box\",\"y\":[0.77,0.68,0.71,0.86,0.61,0.68,0.6,0.77,0.71,0.63]}],                        {\"annotations\":[{\"font\":{\"color\":\"black\",\"size\":14},\"showarrow\":false,\"text\":\"p=0.49\",\"textangle\":0,\"x\":1.0,\"xref\":\"x\",\"y\":1.0914000000000001,\"yref\":\"y domain\"},{\"font\":{\"color\":\"black\",\"size\":14},\"showarrow\":false,\"text\":\"p=0.38\",\"textangle\":0,\"x\":2.0,\"xref\":\"x\",\"y\":1.1663000000000001,\"yref\":\"y domain\"},{\"font\":{\"color\":\"black\",\"size\":14},\"showarrow\":false,\"text\":\"p=0.32\",\"textangle\":0,\"x\":3.0,\"xref\":\"x\",\"y\":1.2412000000000003,\"yref\":\"y domain\"}],\"autosize\":false,\"boxgap\":0,\"font\":{\"size\":18},\"height\":550,\"paper_bgcolor\":\"rgb(243, 243, 243)\",\"plot_bgcolor\":\"aliceblue\",\"shapes\":[{\"line\":{\"color\":\"green\",\"dash\":\"dash\",\"width\":3},\"type\":\"line\",\"x0\":0,\"x1\":1,\"xref\":\"x domain\",\"y0\":0.6596491250000001,\"y1\":0.6596491250000001,\"yref\":\"y\"},{\"line\":{\"color\":\"black\",\"width\":2},\"type\":\"line\",\"x0\":0,\"x1\":0,\"xref\":\"x\",\"y0\":1.01,\"y1\":1.02,\"yref\":\"y domain\"},{\"line\":{\"color\":\"black\",\"width\":2},\"type\":\"line\",\"x0\":0,\"x1\":2,\"xref\":\"x\",\"y0\":1.02,\"y1\":1.02,\"yref\":\"y domain\"},{\"line\":{\"color\":\"black\",\"width\":2},\"type\":\"line\",\"x0\":2,\"x1\":2,\"xref\":\"x\",\"y0\":1.01,\"y1\":1.02,\"yref\":\"y domain\"},{\"line\":{\"color\":\"black\",\"width\":2},\"type\":\"line\",\"x0\":0,\"x1\":0,\"xref\":\"x\",\"y0\":1.08,\"y1\":1.09,\"yref\":\"y domain\"},{\"line\":{\"color\":\"black\",\"width\":2},\"type\":\"line\",\"x0\":0,\"x1\":4,\"xref\":\"x\",\"y0\":1.09,\"y1\":1.09,\"yref\":\"y domain\"},{\"line\":{\"color\":\"black\",\"width\":2},\"type\":\"line\",\"x0\":4,\"x1\":4,\"xref\":\"x\",\"y0\":1.08,\"y1\":1.09,\"yref\":\"y domain\"},{\"line\":{\"color\":\"black\",\"width\":2},\"type\":\"line\",\"x0\":0,\"x1\":0,\"xref\":\"x\",\"y0\":1.15,\"y1\":1.1600000000000001,\"yref\":\"y domain\"},{\"line\":{\"color\":\"black\",\"width\":2},\"type\":\"line\",\"x0\":0,\"x1\":6,\"xref\":\"x\",\"y0\":1.1600000000000001,\"y1\":1.1600000000000001,\"yref\":\"y domain\"},{\"line\":{\"color\":\"black\",\"width\":2},\"type\":\"line\",\"x0\":6,\"x1\":6,\"xref\":\"x\",\"y0\":1.15,\"y1\":1.1600000000000001,\"yref\":\"y domain\"}],\"showlegend\":false,\"template\":{\"data\":{\"bar\":[{\"error_x\":{\"color\":\"#2a3f5f\"},\"error_y\":{\"color\":\"#2a3f5f\"},\"marker\":{\"line\":{\"color\":\"#E5ECF6\",\"width\":0.5},\"pattern\":{\"fillmode\":\"overlay\",\"size\":10,\"solidity\":0.2}},\"type\":\"bar\"}],\"barpolar\":[{\"marker\":{\"line\":{\"color\":\"#E5ECF6\",\"width\":0.5},\"pattern\":{\"fillmode\":\"overlay\",\"size\":10,\"solidity\":0.2}},\"type\":\"barpolar\"}],\"carpet\":[{\"aaxis\":{\"endlinecolor\":\"#2a3f5f\",\"gridcolor\":\"white\",\"linecolor\":\"white\",\"minorgridcolor\":\"white\",\"startlinecolor\":\"#2a3f5f\"},\"baxis\":{\"endlinecolor\":\"#2a3f5f\",\"gridcolor\":\"white\",\"linecolor\":\"white\",\"minorgridcolor\":\"white\",\"startlinecolor\":\"#2a3f5f\"},\"type\":\"carpet\"}],\"choropleth\":[{\"colorbar\":{\"outlinewidth\":0,\"ticks\":\"\"},\"type\":\"choropleth\"}],\"contour\":[{\"colorbar\":{\"outlinewidth\":0,\"ticks\":\"\"},\"colorscale\":[[0.0,\"#0d0887\"],[0.1111111111111111,\"#46039f\"],[0.2222222222222222,\"#7201a8\"],[0.3333333333333333,\"#9c179e\"],[0.4444444444444444,\"#bd3786\"],[0.5555555555555556,\"#d8576b\"],[0.6666666666666666,\"#ed7953\"],[0.7777777777777778,\"#fb9f3a\"],[0.8888888888888888,\"#fdca26\"],[1.0,\"#f0f921\"]],\"type\":\"contour\"}],\"contourcarpet\":[{\"colorbar\":{\"outlinewidth\":0,\"ticks\":\"\"},\"type\":\"contourcarpet\"}],\"heatmap\":[{\"colorbar\":{\"outlinewidth\":0,\"ticks\":\"\"},\"colorscale\":[[0.0,\"#0d0887\"],[0.1111111111111111,\"#46039f\"],[0.2222222222222222,\"#7201a8\"],[0.3333333333333333,\"#9c179e\"],[0.4444444444444444,\"#bd3786\"],[0.5555555555555556,\"#d8576b\"],[0.6666666666666666,\"#ed7953\"],[0.7777777777777778,\"#fb9f3a\"],[0.8888888888888888,\"#fdca26\"],[1.0,\"#f0f921\"]],\"type\":\"heatmap\"}],\"heatmapgl\":[{\"colorbar\":{\"outlinewidth\":0,\"ticks\":\"\"},\"colorscale\":[[0.0,\"#0d0887\"],[0.1111111111111111,\"#46039f\"],[0.2222222222222222,\"#7201a8\"],[0.3333333333333333,\"#9c179e\"],[0.4444444444444444,\"#bd3786\"],[0.5555555555555556,\"#d8576b\"],[0.6666666666666666,\"#ed7953\"],[0.7777777777777778,\"#fb9f3a\"],[0.8888888888888888,\"#fdca26\"],[1.0,\"#f0f921\"]],\"type\":\"heatmapgl\"}],\"histogram\":[{\"marker\":{\"pattern\":{\"fillmode\":\"overlay\",\"size\":10,\"solidity\":0.2}},\"type\":\"histogram\"}],\"histogram2d\":[{\"colorbar\":{\"outlinewidth\":0,\"ticks\":\"\"},\"colorscale\":[[0.0,\"#0d0887\"],[0.1111111111111111,\"#46039f\"],[0.2222222222222222,\"#7201a8\"],[0.3333333333333333,\"#9c179e\"],[0.4444444444444444,\"#bd3786\"],[0.5555555555555556,\"#d8576b\"],[0.6666666666666666,\"#ed7953\"],[0.7777777777777778,\"#fb9f3a\"],[0.8888888888888888,\"#fdca26\"],[1.0,\"#f0f921\"]],\"type\":\"histogram2d\"}],\"histogram2dcontour\":[{\"colorbar\":{\"outlinewidth\":0,\"ticks\":\"\"},\"colorscale\":[[0.0,\"#0d0887\"],[0.1111111111111111,\"#46039f\"],[0.2222222222222222,\"#7201a8\"],[0.3333333333333333,\"#9c179e\"],[0.4444444444444444,\"#bd3786\"],[0.5555555555555556,\"#d8576b\"],[0.6666666666666666,\"#ed7953\"],[0.7777777777777778,\"#fb9f3a\"],[0.8888888888888888,\"#fdca26\"],[1.0,\"#f0f921\"]],\"type\":\"histogram2dcontour\"}],\"mesh3d\":[{\"colorbar\":{\"outlinewidth\":0,\"ticks\":\"\"},\"type\":\"mesh3d\"}],\"parcoords\":[{\"line\":{\"colorbar\":{\"outlinewidth\":0,\"ticks\":\"\"}},\"type\":\"parcoords\"}],\"pie\":[{\"automargin\":true,\"type\":\"pie\"}],\"scatter\":[{\"marker\":{\"colorbar\":{\"outlinewidth\":0,\"ticks\":\"\"}},\"type\":\"scatter\"}],\"scatter3d\":[{\"line\":{\"colorbar\":{\"outlinewidth\":0,\"ticks\":\"\"}},\"marker\":{\"colorbar\":{\"outlinewidth\":0,\"ticks\":\"\"}},\"type\":\"scatter3d\"}],\"scattercarpet\":[{\"marker\":{\"colorbar\":{\"outlinewidth\":0,\"ticks\":\"\"}},\"type\":\"scattercarpet\"}],\"scattergeo\":[{\"marker\":{\"colorbar\":{\"outlinewidth\":0,\"ticks\":\"\"}},\"type\":\"scattergeo\"}],\"scattergl\":[{\"marker\":{\"colorbar\":{\"outlinewidth\":0,\"ticks\":\"\"}},\"type\":\"scattergl\"}],\"scattermapbox\":[{\"marker\":{\"colorbar\":{\"outlinewidth\":0,\"ticks\":\"\"}},\"type\":\"scattermapbox\"}],\"scatterpolar\":[{\"marker\":{\"colorbar\":{\"outlinewidth\":0,\"ticks\":\"\"}},\"type\":\"scatterpolar\"}],\"scatterpolargl\":[{\"marker\":{\"colorbar\":{\"outlinewidth\":0,\"ticks\":\"\"}},\"type\":\"scatterpolargl\"}],\"scatterternary\":[{\"marker\":{\"colorbar\":{\"outlinewidth\":0,\"ticks\":\"\"}},\"type\":\"scatterternary\"}],\"surface\":[{\"colorbar\":{\"outlinewidth\":0,\"ticks\":\"\"},\"colorscale\":[[0.0,\"#0d0887\"],[0.1111111111111111,\"#46039f\"],[0.2222222222222222,\"#7201a8\"],[0.3333333333333333,\"#9c179e\"],[0.4444444444444444,\"#bd3786\"],[0.5555555555555556,\"#d8576b\"],[0.6666666666666666,\"#ed7953\"],[0.7777777777777778,\"#fb9f3a\"],[0.8888888888888888,\"#fdca26\"],[1.0,\"#f0f921\"]],\"type\":\"surface\"}],\"table\":[{\"cells\":{\"fill\":{\"color\":\"#EBF0F8\"},\"line\":{\"color\":\"white\"}},\"header\":{\"fill\":{\"color\":\"#C8D4E3\"},\"line\":{\"color\":\"white\"}},\"type\":\"table\"}]},\"layout\":{\"annotationdefaults\":{\"arrowcolor\":\"#2a3f5f\",\"arrowhead\":0,\"arrowwidth\":1},\"autotypenumbers\":\"strict\",\"coloraxis\":{\"colorbar\":{\"outlinewidth\":0,\"ticks\":\"\"}},\"colorscale\":{\"diverging\":[[0,\"#8e0152\"],[0.1,\"#c51b7d\"],[0.2,\"#de77ae\"],[0.3,\"#f1b6da\"],[0.4,\"#fde0ef\"],[0.5,\"#f7f7f7\"],[0.6,\"#e6f5d0\"],[0.7,\"#b8e186\"],[0.8,\"#7fbc41\"],[0.9,\"#4d9221\"],[1,\"#276419\"]],\"sequential\":[[0.0,\"#0d0887\"],[0.1111111111111111,\"#46039f\"],[0.2222222222222222,\"#7201a8\"],[0.3333333333333333,\"#9c179e\"],[0.4444444444444444,\"#bd3786\"],[0.5555555555555556,\"#d8576b\"],[0.6666666666666666,\"#ed7953\"],[0.7777777777777778,\"#fb9f3a\"],[0.8888888888888888,\"#fdca26\"],[1.0,\"#f0f921\"]],\"sequentialminus\":[[0.0,\"#0d0887\"],[0.1111111111111111,\"#46039f\"],[0.2222222222222222,\"#7201a8\"],[0.3333333333333333,\"#9c179e\"],[0.4444444444444444,\"#bd3786\"],[0.5555555555555556,\"#d8576b\"],[0.6666666666666666,\"#ed7953\"],[0.7777777777777778,\"#fb9f3a\"],[0.8888888888888888,\"#fdca26\"],[1.0,\"#f0f921\"]]},\"colorway\":[\"#636efa\",\"#EF553B\",\"#00cc96\",\"#ab63fa\",\"#FFA15A\",\"#19d3f3\",\"#FF6692\",\"#B6E880\",\"#FF97FF\",\"#FECB52\"],\"font\":{\"color\":\"#2a3f5f\"},\"geo\":{\"bgcolor\":\"white\",\"lakecolor\":\"white\",\"landcolor\":\"#E5ECF6\",\"showlakes\":true,\"showland\":true,\"subunitcolor\":\"white\"},\"hoverlabel\":{\"align\":\"left\"},\"hovermode\":\"closest\",\"mapbox\":{\"style\":\"light\"},\"paper_bgcolor\":\"white\",\"plot_bgcolor\":\"#E5ECF6\",\"polar\":{\"angularaxis\":{\"gridcolor\":\"white\",\"linecolor\":\"white\",\"ticks\":\"\"},\"bgcolor\":\"#E5ECF6\",\"radialaxis\":{\"gridcolor\":\"white\",\"linecolor\":\"white\",\"ticks\":\"\"}},\"scene\":{\"xaxis\":{\"backgroundcolor\":\"#E5ECF6\",\"gridcolor\":\"white\",\"gridwidth\":2,\"linecolor\":\"white\",\"showbackground\":true,\"ticks\":\"\",\"zerolinecolor\":\"white\"},\"yaxis\":{\"backgroundcolor\":\"#E5ECF6\",\"gridcolor\":\"white\",\"gridwidth\":2,\"linecolor\":\"white\",\"showbackground\":true,\"ticks\":\"\",\"zerolinecolor\":\"white\"},\"zaxis\":{\"backgroundcolor\":\"#E5ECF6\",\"gridcolor\":\"white\",\"gridwidth\":2,\"linecolor\":\"white\",\"showbackground\":true,\"ticks\":\"\",\"zerolinecolor\":\"white\"}},\"shapedefaults\":{\"line\":{\"color\":\"#2a3f5f\"}},\"ternary\":{\"aaxis\":{\"gridcolor\":\"white\",\"linecolor\":\"white\",\"ticks\":\"\"},\"baxis\":{\"gridcolor\":\"white\",\"linecolor\":\"white\",\"ticks\":\"\"},\"bgcolor\":\"#E5ECF6\",\"caxis\":{\"gridcolor\":\"white\",\"linecolor\":\"white\",\"ticks\":\"\"}},\"title\":{\"x\":0.05},\"xaxis\":{\"automargin\":true,\"gridcolor\":\"white\",\"linecolor\":\"white\",\"ticks\":\"\",\"title\":{\"standoff\":15},\"zerolinecolor\":\"white\",\"zerolinewidth\":2},\"yaxis\":{\"automargin\":true,\"gridcolor\":\"white\",\"linecolor\":\"white\",\"ticks\":\"\",\"title\":{\"standoff\":15},\"zerolinecolor\":\"white\",\"zerolinewidth\":2}}},\"title\":{\"x\":0.5,\"xanchor\":\"center\",\"y\":0.04,\"yanchor\":\"top\"},\"width\":820,\"xaxis\":{\"title\":{\"text\":\"HD vs. RRMS -  Multi-Cell Classification\"}},\"yaxis\":{\"range\":[0.2,1.001],\"title\":{\"text\":\"F-score\"}}},                        {\"responsive\": true}                    ).then(function(){\n",
       "                            \n",
       "var gd = document.getElementById('d858bdb8-5199-4e90-b977-76bfe386f506');\n",
       "var x = new MutationObserver(function (mutations, observer) {{\n",
       "        var display = window.getComputedStyle(gd).display;\n",
       "        if (!display || display === 'none') {{\n",
       "            console.log([gd, 'removed!']);\n",
       "            Plotly.purge(gd);\n",
       "            observer.disconnect();\n",
       "        }}\n",
       "}});\n",
       "\n",
       "// Listen for the removal of the full notebook cells\n",
       "var notebookContainer = gd.closest('#notebook-container');\n",
       "if (notebookContainer) {{\n",
       "    x.observe(notebookContainer, {childList: true});\n",
       "}}\n",
       "\n",
       "// Listen for the clearing of the current output cell\n",
       "var outputEl = gd.closest('.output');\n",
       "if (outputEl) {{\n",
       "    x.observe(outputEl, {childList: true});\n",
       "}}\n",
       "\n",
       "                        })                };                });            </script>        </div>"
      ]
     },
     "metadata": {},
     "output_type": "display_data"
    }
   ],
   "source": [
    "import plotly.express as px\n",
    "import pandas\n",
    "import plotly.graph_objects as go\n",
    "import os\n",
    "from scipy.stats import wilcoxon\n",
    "import numpy as np\n",
    "experiment = 'RRMS'\n",
    "sampling = 'BagSample'\n",
    "metric= 'F-score'\n",
    "fileToWrite = 'AccuracyFigures/'+experiment+'_'+sampling+'_'+metric\n",
    "fileName='AllResults_'+experiment+'_10runs_'+ sampling + '.xlsx'\n",
    "df = pandas.read_excel(fileName)\n",
    "float_formatter = \"{:.2f}\".format\n",
    "dfPhenotype = df.loc[df['Classification']== 'Phenotype Classification']\n",
    "dfMultiCell = df.loc[df['Classification']== 'Multi-cell Classification']\n",
    "# fig = px.box(dfPhenotype, x=\"Runs\", y=\"Accuracy\")\n",
    "# fig.show()\n",
    "colors = ['rgba(93, 164, 214, 0.5)', 'rgba(255, 144, 14, 0.5)', 'rgba(44, 160, 101, 0.5)',\n",
    "          'rgba(255, 65, 54, 0.5)', 'rgba(207, 114, 255, 0.5)', 'rgba(127, 96, 0, 0.5)']\n",
    "\n",
    "\n",
    "#Phenotype classification data to color.. \n",
    "cellcnn = dfPhenotype.loc[dfPhenotype['Runs']== 'CellCnn Centralized']\n",
    "local2 = dfPhenotype.loc[dfPhenotype['Runs']== 'Local_2']\n",
    "local4 = dfPhenotype.loc[dfPhenotype['Runs']== 'Local_4']\n",
    "local6 = dfPhenotype.loc[dfPhenotype['Runs']== 'Local_6']\n",
    "peg2 = dfPhenotype.loc[dfPhenotype['Runs']== 'PriCell (N=2)']\n",
    "peg4 = dfPhenotype.loc[dfPhenotype['Runs']== 'PriCell (N=4)']\n",
    "peg6 = dfPhenotype.loc[dfPhenotype['Runs']== 'PriCell (N=6)']\n",
    "\n",
    "fig = go.Figure()\n",
    "fig.add_trace(go.Box(y=cellcnn[metric],name='CellCnn <br>  Centralized',\n",
    "                marker_color = 'indianred'))\n",
    "fig.add_trace(go.Box(y=local2[metric], name='Local <br>  (N=2)',\n",
    "                marker_color = 'lightseagreen'  ))\n",
    "fig.add_trace(go.Box(y=peg2[metric], name='<i>PriCell</i> <br> (N=2)',\n",
    "                marker_color = 'blue'  ))\n",
    "fig.add_trace(go.Box(y=local4[metric], name='Local  <br> (N=4)',\n",
    "                marker_color = 'lightseagreen'  ))\n",
    "fig.add_trace(go.Box(y=peg4[metric], name='<i>PriCell</i> <br> (N=4)',\n",
    "                marker_color = 'blue'  ))\n",
    "fig.add_trace(go.Box(y=local6[metric], name='Local  <br> (N=6)',\n",
    "                marker_color = 'lightseagreen' ))\n",
    "fig.add_trace(go.Box(y=peg6[metric], name='<i>PriCell</i> <br> (N=6)',\n",
    "                marker_color = 'blue' ))\n",
    "\n",
    "def add_p_value_annotation(fig, array_columns, subplot=None, _format=dict(interline=0.07, text_height=1.07, color='black')):\n",
    "    ''' Adds notations giving the p-value between two box plot data (t-test two-sided comparison)\n",
    "    \n",
    "    Parameters:\n",
    "    ----------\n",
    "    fig: figure\n",
    "        plotly boxplot figure\n",
    "    array_columns: np.array\n",
    "        array of which columns to compare \n",
    "        e.g.: [[0,1], [1,2]] compares column 0 with 1 and 1 with 2\n",
    "    subplot: None or int\n",
    "        specifies if the figures has subplots and what subplot to add the notation to\n",
    "    _format: dict\n",
    "        format characteristics for the lines\n",
    "\n",
    "    Returns:\n",
    "    -------\n",
    "    fig: figure\n",
    "        figure with the added notation\n",
    "    '''\n",
    "    # Specify in what y_range to plot for each pair of columns\n",
    "    y_range = np.zeros([len(array_columns), 2])\n",
    "    for i in range(len(array_columns)):\n",
    "        y_range[i] = [1.01+i*_format['interline'], 1.02+i*_format['interline']]\n",
    "\n",
    "    # Get values from figure\n",
    "    fig_dict = fig.to_dict()\n",
    "\n",
    "    # Get indices if working with subplots\n",
    "    if subplot:\n",
    "        if subplot == 1:\n",
    "            subplot_str = ''\n",
    "        else:\n",
    "            subplot_str =str(subplot)\n",
    "        indices = [] #Change the box index to the indices of the data for that subplot\n",
    "        for index, data in enumerate(fig_dict['data']):\n",
    "            #print(index, data['xaxis'], 'x' + subplot_str)\n",
    "            if data['xaxis'] == 'x' + subplot_str:\n",
    "                indices = np.append(indices, index)\n",
    "        indices = [int(i) for i in indices]\n",
    "        print((indices))\n",
    "    else:\n",
    "        subplot_str = ''\n",
    "\n",
    "    # Print the p-values\n",
    "    for index, column_pair in enumerate(array_columns):\n",
    "        if subplot:\n",
    "            data_pair = [indices[column_pair[0]], indices[column_pair[1]]]\n",
    "        else:\n",
    "            data_pair = column_pair\n",
    "\n",
    "        # Mare sure it is selecting the data and subplot you want\n",
    "        #print('0:', fig_dict['data'][data_pair[0]]['name'], fig_dict['data'][data_pair[0]]['xaxis'])\n",
    "        #print('1:', fig_dict['data'][data_pair[1]]['name'], fig_dict['data'][data_pair[1]]['xaxis'])\n",
    "\n",
    "        # Get the p-value\n",
    "#         pvalue = stats.ttest_ind(\n",
    "#             fig_dict['data'][data_pair[0]]['y'],\n",
    "#             fig_dict['data'][data_pair[1]]['y'],\n",
    "#             equal_var=False,\n",
    "#         )[1]\n",
    "        w, pvalue = wilcoxon(fig_dict['data'][data_pair[0]]['y'],fig_dict['data'][data_pair[1]]['y'])\n",
    "        symbol = \"p=\"+np.str(float_formatter(pvalue))\n",
    "        # Vertical line\n",
    "        fig.add_shape(type=\"line\",\n",
    "            xref=\"x\"+subplot_str, yref=\"y\"+subplot_str+\" domain\",\n",
    "            x0=column_pair[0], y0=y_range[index][0], \n",
    "            x1=column_pair[0], y1=y_range[index][1],\n",
    "            line=dict(color=_format['color'], width=2,)\n",
    "        )\n",
    "        # Horizontal line\n",
    "        fig.add_shape(type=\"line\",\n",
    "            xref=\"x\"+subplot_str, yref=\"y\"+subplot_str+\" domain\",\n",
    "            x0=column_pair[0], y0=y_range[index][1], \n",
    "            x1=column_pair[1], y1=y_range[index][1],\n",
    "            line=dict(color=_format['color'], width=2,)\n",
    "        )\n",
    "        # Vertical line\n",
    "        fig.add_shape(type=\"line\",\n",
    "            xref=\"x\"+subplot_str, yref=\"y\"+subplot_str+\" domain\",\n",
    "            x0=column_pair[1], y0=y_range[index][0], \n",
    "            x1=column_pair[1], y1=y_range[index][1],\n",
    "            line=dict(color=_format['color'], width=2,)\n",
    "        )\n",
    "        ## add text at the correct x, y coordinates\n",
    "        ## for bars, there is a direct mapping from the bar number to 0, 1, 2...\n",
    "        fig.add_annotation(dict(font=dict(color=_format['color'],size=14),\n",
    "            x=(column_pair[0] + column_pair[1])/2,\n",
    "            y=y_range[index][1]*_format['text_height'],\n",
    "            showarrow=False,\n",
    "            text=symbol,\n",
    "            textangle=0,\n",
    "            xref=\"x\"+subplot_str,\n",
    "            yref=\"y\"+subplot_str+\" domain\"\n",
    "        ))\n",
    "    return fig\n",
    "fig.update_layout(\n",
    "#     title_text='HD vs. '+experiment+' -  Phenotype Classification', title_x=0.5,\n",
    "    yaxis_title=metric,\n",
    "    xaxis_title='HD vs. '+experiment+' -  Phenotype Classification',\n",
    "    boxgap=0,\n",
    "    paper_bgcolor='rgb(243, 243, 243)',\n",
    "    plot_bgcolor='rgb(243, 243, 243)',\n",
    "    showlegend=False\n",
    ")\n",
    "fig.update_layout(\n",
    "    plot_bgcolor='aliceblue',\n",
    "    font=dict(\n",
    "#         family=\"Courier New, monospace\",\n",
    "        size=18\n",
    "    )\n",
    "\n",
    ")\n",
    "fig.update_yaxes(range=[0.2, 1.001])\n",
    "# fig.update_traces(notched=True)\n",
    "\n",
    "fig.update_layout(\n",
    "    autosize=False,\n",
    "    width=820,\n",
    "    height=550\n",
    ")\n",
    "fig.add_hline(y=pandas.DataFrame.median(cellcnn[metric]), line_width=3, line_dash=\"dash\", line_color=\"green\")\n",
    "\n",
    "\n",
    "fig = add_p_value_annotation(fig, [[0,2], [0,4], [0,6]])\n",
    "fig.update_layout(\n",
    "    title={\n",
    "        'y':0.04,\n",
    "        'x':0.5,\n",
    "        'xanchor': 'center',\n",
    "        'yanchor': 'top'})\n",
    "fig.show()\n",
    "fig.write_image(fileToWrite+\"_Phenotype.pdf\")\n",
    "#======================================================================================================#\n",
    "\n",
    "#Multi-Cell classification data to color.. \n",
    "cellcnn = dfMultiCell.loc[dfMultiCell['Runs']== 'CellCnn Centralized']\n",
    "local2 = dfMultiCell.loc[dfMultiCell['Runs']== 'Local_2']\n",
    "local4 = dfMultiCell.loc[dfMultiCell['Runs']== 'Local_4']\n",
    "local6 = dfMultiCell.loc[dfMultiCell['Runs']== 'Local_6']\n",
    "peg2 = dfMultiCell.loc[dfMultiCell['Runs']== 'PriCell (N=2)']\n",
    "peg4 = dfMultiCell.loc[dfMultiCell['Runs']== 'PriCell (N=4)']\n",
    "peg6 = dfMultiCell.loc[dfMultiCell['Runs']== 'PriCell (N=6)']\n",
    "\n",
    "fig = go.Figure()\n",
    "fig.add_trace(go.Box(y=cellcnn[metric],name='CellCnn  <br> Centralized',\n",
    "                marker_color = 'indianred' ))\n",
    "fig.add_trace(go.Box(y=local2[metric], name='Local  <br> (N=2)',\n",
    "                marker_color = 'lightseagreen' ))\n",
    "fig.add_trace(go.Box(y=peg2[metric], name='<i>PriCell</i> <br>  (N=2)',\n",
    "                marker_color = 'blue' ))\n",
    "fig.add_trace(go.Box(y=local4[metric], name='Local <br>  (N=4)',\n",
    "                marker_color = 'lightseagreen' ))\n",
    "fig.add_trace(go.Box(y=peg4[metric], name='<i>PriCell</i> <br> (N=4)',\n",
    "                marker_color = 'blue' ))\n",
    "fig.add_trace(go.Box(y=local6[metric], name='Local <br>  (N=6)',\n",
    "                marker_color = 'lightseagreen' ))\n",
    "fig.add_trace(go.Box(y=peg6[metric], name='<i>PriCell</i> <br>  (N=6)',\n",
    "                marker_color = 'blue' ))\n",
    "\n",
    "fig.update_layout(\n",
    "#     title_text='HD vs. '+experiment+' -  Multi-Cell Classification', title_x=0.5,\n",
    "    yaxis_title=metric,\n",
    "     xaxis_title='HD vs. '+experiment+' -  Multi-Cell Classification',\n",
    "    boxgap=0,\n",
    "#     boxgroupgap=0,\n",
    "    paper_bgcolor='rgb(243, 243, 243)',\n",
    "    plot_bgcolor='rgb(243, 243, 243)',\n",
    "    showlegend=False\n",
    ")\n",
    "fig.update_layout(\n",
    "    plot_bgcolor='aliceblue',\n",
    "    font=dict(\n",
    "#         family=\"Courier New, monospace\",\n",
    "        size=18\n",
    "    )\n",
    "\n",
    ")\n",
    "fig.update_yaxes(range=[0.2, 1.001])\n",
    "# fig.update_traces(notched=True)\n",
    "\n",
    "fig.update_layout(\n",
    "    autosize=False,\n",
    "    width=820,\n",
    "    height=550\n",
    ")\n",
    "fig.update_layout(\n",
    "    title={\n",
    "        'y':0.04,\n",
    "        'x':0.5,\n",
    "        'xanchor': 'center',\n",
    "        'yanchor': 'top'})\n",
    "fig.add_hline(y=pandas.DataFrame.median(cellcnn[metric]), line_width=3, line_dash=\"dash\", line_color=\"green\")\n",
    "fig = add_p_value_annotation(fig, [[0,2], [0,4], [0,6]])\n",
    "fig.show()\n",
    "fig.write_image(fileToWrite+\"_MultiCell.pdf\")"
   ]
  },
  {
   "cell_type": "markdown",
   "metadata": {},
   "source": [
    "# Boxplots\n",
    "The script generates the boxplots used in the paper by reading the results from respective excell sheets \n",
    "Set the following parameters depending on which results to visualize for CMV experiments:\n",
    "\n",
    "experiment = 'CMV'\n",
    "\n",
    "sampling = 'BagSample'\n",
    "\n",
    "metric = 'Accuracy' or 'Precision' or 'Recall' or 'F-score'"
   ]
  },
  {
   "cell_type": "code",
   "execution_count": 16,
   "metadata": {},
   "outputs": [
    {
     "data": {
      "application/vnd.plotly.v1+json": {
       "config": {
        "plotlyServerURL": "https://plot.ly"
       },
       "data": [
        {
         "marker": {
          "color": "indianred"
         },
         "name": "CellCnn <br>  Centralized",
         "type": "box",
         "y": [
          1,
          0.8,
          0.5,
          0.5,
          0.66666667,
          0.66666667,
          0.8,
          0.8,
          1,
          0.5
         ]
        },
        {
         "marker": {
          "color": "lightseagreen"
         },
         "name": "Local <br>  (N=2)",
         "type": "box",
         "y": [
          0.41666667,
          0.5,
          0.53333333,
          0.34285714,
          0.33333333,
          0.5,
          0.45,
          0.33333333,
          0.53333333,
          0.56666667
         ]
        },
        {
         "marker": {
          "color": "blue"
         },
         "name": "<i>PriCell</i> <br>  (N=2)",
         "type": "box",
         "y": [
          0.8,
          0.33,
          1,
          0.67,
          0.8,
          0.67,
          0.8,
          0.8,
          0.67,
          0.67
         ]
        },
        {
         "marker": {
          "color": "lightseagreen"
         },
         "name": "Local  <br> (N=3)",
         "type": "box",
         "y": [
          0.48275862,
          0.49122807,
          0.4375,
          0.49122807,
          0.66666667,
          0.49122807,
          0.50859107,
          0.34285714,
          0.875,
          0.57971014
         ]
        },
        {
         "marker": {
          "color": "blue"
         },
         "name": "<i>PriCell</i> <br> (N=3)",
         "type": "box",
         "y": [
          0.8,
          1,
          0.33,
          0.5,
          0.8,
          0.8,
          0.67,
          0.67,
          0.67,
          0.8
         ]
        },
        {
         "marker": {
          "color": "lightseagreen"
         },
         "name": "Local  <br> (N=5)",
         "type": "box",
         "y": [
          0.3852459,
          0.39759036,
          0.3627907,
          0.3852459,
          0.40338983,
          0.51210191,
          0.225,
          0.54534884,
          0.36170213,
          0.53017751
         ]
        },
        {
         "marker": {
          "color": "blue"
         },
         "name": "<i>PriCell</i> <br> (N=5)",
         "type": "box",
         "y": [
          0.57,
          0.67,
          0.8,
          0.8,
          0.67,
          0.67,
          0.5,
          0.8,
          0.8,
          0.8
         ]
        }
       ],
       "layout": {
        "annotations": [
         {
          "font": {
           "color": "black",
           "size": 14
          },
          "showarrow": false,
          "text": "p=1.00",
          "textangle": 0,
          "x": 1,
          "xref": "x",
          "y": 1.0914000000000001,
          "yref": "y domain"
         },
         {
          "font": {
           "color": "black",
           "size": 14
          },
          "showarrow": false,
          "text": "p=0.91",
          "textangle": 0,
          "x": 2,
          "xref": "x",
          "y": 1.1663000000000001,
          "yref": "y domain"
         },
         {
          "font": {
           "color": "black",
           "size": 14
          },
          "showarrow": false,
          "text": "p=1.00",
          "textangle": 0,
          "x": 3,
          "xref": "x",
          "y": 1.2412000000000003,
          "yref": "y domain"
         }
        ],
        "autosize": false,
        "boxgap": 0,
        "font": {
         "size": 18
        },
        "height": 550,
        "paper_bgcolor": "rgb(243, 243, 243)",
        "plot_bgcolor": "aliceblue",
        "shapes": [
         {
          "line": {
           "color": "green",
           "dash": "dash",
           "width": 3
          },
          "type": "line",
          "x0": 0,
          "x1": 1,
          "xref": "x domain",
          "y0": 0.733333335,
          "y1": 0.733333335,
          "yref": "y"
         },
         {
          "line": {
           "color": "black",
           "width": 2
          },
          "type": "line",
          "x0": 0,
          "x1": 0,
          "xref": "x",
          "y0": 1.01,
          "y1": 1.02,
          "yref": "y domain"
         },
         {
          "line": {
           "color": "black",
           "width": 2
          },
          "type": "line",
          "x0": 0,
          "x1": 2,
          "xref": "x",
          "y0": 1.02,
          "y1": 1.02,
          "yref": "y domain"
         },
         {
          "line": {
           "color": "black",
           "width": 2
          },
          "type": "line",
          "x0": 2,
          "x1": 2,
          "xref": "x",
          "y0": 1.01,
          "y1": 1.02,
          "yref": "y domain"
         },
         {
          "line": {
           "color": "black",
           "width": 2
          },
          "type": "line",
          "x0": 0,
          "x1": 0,
          "xref": "x",
          "y0": 1.08,
          "y1": 1.09,
          "yref": "y domain"
         },
         {
          "line": {
           "color": "black",
           "width": 2
          },
          "type": "line",
          "x0": 0,
          "x1": 4,
          "xref": "x",
          "y0": 1.09,
          "y1": 1.09,
          "yref": "y domain"
         },
         {
          "line": {
           "color": "black",
           "width": 2
          },
          "type": "line",
          "x0": 4,
          "x1": 4,
          "xref": "x",
          "y0": 1.08,
          "y1": 1.09,
          "yref": "y domain"
         },
         {
          "line": {
           "color": "black",
           "width": 2
          },
          "type": "line",
          "x0": 0,
          "x1": 0,
          "xref": "x",
          "y0": 1.15,
          "y1": 1.1600000000000001,
          "yref": "y domain"
         },
         {
          "line": {
           "color": "black",
           "width": 2
          },
          "type": "line",
          "x0": 0,
          "x1": 6,
          "xref": "x",
          "y0": 1.1600000000000001,
          "y1": 1.1600000000000001,
          "yref": "y domain"
         },
         {
          "line": {
           "color": "black",
           "width": 2
          },
          "type": "line",
          "x0": 6,
          "x1": 6,
          "xref": "x",
          "y0": 1.15,
          "y1": 1.1600000000000001,
          "yref": "y domain"
         }
        ],
        "showlegend": false,
        "template": {
         "data": {
          "bar": [
           {
            "error_x": {
             "color": "#2a3f5f"
            },
            "error_y": {
             "color": "#2a3f5f"
            },
            "marker": {
             "line": {
              "color": "#E5ECF6",
              "width": 0.5
             },
             "pattern": {
              "fillmode": "overlay",
              "size": 10,
              "solidity": 0.2
             }
            },
            "type": "bar"
           }
          ],
          "barpolar": [
           {
            "marker": {
             "line": {
              "color": "#E5ECF6",
              "width": 0.5
             },
             "pattern": {
              "fillmode": "overlay",
              "size": 10,
              "solidity": 0.2
             }
            },
            "type": "barpolar"
           }
          ],
          "carpet": [
           {
            "aaxis": {
             "endlinecolor": "#2a3f5f",
             "gridcolor": "white",
             "linecolor": "white",
             "minorgridcolor": "white",
             "startlinecolor": "#2a3f5f"
            },
            "baxis": {
             "endlinecolor": "#2a3f5f",
             "gridcolor": "white",
             "linecolor": "white",
             "minorgridcolor": "white",
             "startlinecolor": "#2a3f5f"
            },
            "type": "carpet"
           }
          ],
          "choropleth": [
           {
            "colorbar": {
             "outlinewidth": 0,
             "ticks": ""
            },
            "type": "choropleth"
           }
          ],
          "contour": [
           {
            "colorbar": {
             "outlinewidth": 0,
             "ticks": ""
            },
            "colorscale": [
             [
              0,
              "#0d0887"
             ],
             [
              0.1111111111111111,
              "#46039f"
             ],
             [
              0.2222222222222222,
              "#7201a8"
             ],
             [
              0.3333333333333333,
              "#9c179e"
             ],
             [
              0.4444444444444444,
              "#bd3786"
             ],
             [
              0.5555555555555556,
              "#d8576b"
             ],
             [
              0.6666666666666666,
              "#ed7953"
             ],
             [
              0.7777777777777778,
              "#fb9f3a"
             ],
             [
              0.8888888888888888,
              "#fdca26"
             ],
             [
              1,
              "#f0f921"
             ]
            ],
            "type": "contour"
           }
          ],
          "contourcarpet": [
           {
            "colorbar": {
             "outlinewidth": 0,
             "ticks": ""
            },
            "type": "contourcarpet"
           }
          ],
          "heatmap": [
           {
            "colorbar": {
             "outlinewidth": 0,
             "ticks": ""
            },
            "colorscale": [
             [
              0,
              "#0d0887"
             ],
             [
              0.1111111111111111,
              "#46039f"
             ],
             [
              0.2222222222222222,
              "#7201a8"
             ],
             [
              0.3333333333333333,
              "#9c179e"
             ],
             [
              0.4444444444444444,
              "#bd3786"
             ],
             [
              0.5555555555555556,
              "#d8576b"
             ],
             [
              0.6666666666666666,
              "#ed7953"
             ],
             [
              0.7777777777777778,
              "#fb9f3a"
             ],
             [
              0.8888888888888888,
              "#fdca26"
             ],
             [
              1,
              "#f0f921"
             ]
            ],
            "type": "heatmap"
           }
          ],
          "heatmapgl": [
           {
            "colorbar": {
             "outlinewidth": 0,
             "ticks": ""
            },
            "colorscale": [
             [
              0,
              "#0d0887"
             ],
             [
              0.1111111111111111,
              "#46039f"
             ],
             [
              0.2222222222222222,
              "#7201a8"
             ],
             [
              0.3333333333333333,
              "#9c179e"
             ],
             [
              0.4444444444444444,
              "#bd3786"
             ],
             [
              0.5555555555555556,
              "#d8576b"
             ],
             [
              0.6666666666666666,
              "#ed7953"
             ],
             [
              0.7777777777777778,
              "#fb9f3a"
             ],
             [
              0.8888888888888888,
              "#fdca26"
             ],
             [
              1,
              "#f0f921"
             ]
            ],
            "type": "heatmapgl"
           }
          ],
          "histogram": [
           {
            "marker": {
             "pattern": {
              "fillmode": "overlay",
              "size": 10,
              "solidity": 0.2
             }
            },
            "type": "histogram"
           }
          ],
          "histogram2d": [
           {
            "colorbar": {
             "outlinewidth": 0,
             "ticks": ""
            },
            "colorscale": [
             [
              0,
              "#0d0887"
             ],
             [
              0.1111111111111111,
              "#46039f"
             ],
             [
              0.2222222222222222,
              "#7201a8"
             ],
             [
              0.3333333333333333,
              "#9c179e"
             ],
             [
              0.4444444444444444,
              "#bd3786"
             ],
             [
              0.5555555555555556,
              "#d8576b"
             ],
             [
              0.6666666666666666,
              "#ed7953"
             ],
             [
              0.7777777777777778,
              "#fb9f3a"
             ],
             [
              0.8888888888888888,
              "#fdca26"
             ],
             [
              1,
              "#f0f921"
             ]
            ],
            "type": "histogram2d"
           }
          ],
          "histogram2dcontour": [
           {
            "colorbar": {
             "outlinewidth": 0,
             "ticks": ""
            },
            "colorscale": [
             [
              0,
              "#0d0887"
             ],
             [
              0.1111111111111111,
              "#46039f"
             ],
             [
              0.2222222222222222,
              "#7201a8"
             ],
             [
              0.3333333333333333,
              "#9c179e"
             ],
             [
              0.4444444444444444,
              "#bd3786"
             ],
             [
              0.5555555555555556,
              "#d8576b"
             ],
             [
              0.6666666666666666,
              "#ed7953"
             ],
             [
              0.7777777777777778,
              "#fb9f3a"
             ],
             [
              0.8888888888888888,
              "#fdca26"
             ],
             [
              1,
              "#f0f921"
             ]
            ],
            "type": "histogram2dcontour"
           }
          ],
          "mesh3d": [
           {
            "colorbar": {
             "outlinewidth": 0,
             "ticks": ""
            },
            "type": "mesh3d"
           }
          ],
          "parcoords": [
           {
            "line": {
             "colorbar": {
              "outlinewidth": 0,
              "ticks": ""
             }
            },
            "type": "parcoords"
           }
          ],
          "pie": [
           {
            "automargin": true,
            "type": "pie"
           }
          ],
          "scatter": [
           {
            "marker": {
             "colorbar": {
              "outlinewidth": 0,
              "ticks": ""
             }
            },
            "type": "scatter"
           }
          ],
          "scatter3d": [
           {
            "line": {
             "colorbar": {
              "outlinewidth": 0,
              "ticks": ""
             }
            },
            "marker": {
             "colorbar": {
              "outlinewidth": 0,
              "ticks": ""
             }
            },
            "type": "scatter3d"
           }
          ],
          "scattercarpet": [
           {
            "marker": {
             "colorbar": {
              "outlinewidth": 0,
              "ticks": ""
             }
            },
            "type": "scattercarpet"
           }
          ],
          "scattergeo": [
           {
            "marker": {
             "colorbar": {
              "outlinewidth": 0,
              "ticks": ""
             }
            },
            "type": "scattergeo"
           }
          ],
          "scattergl": [
           {
            "marker": {
             "colorbar": {
              "outlinewidth": 0,
              "ticks": ""
             }
            },
            "type": "scattergl"
           }
          ],
          "scattermapbox": [
           {
            "marker": {
             "colorbar": {
              "outlinewidth": 0,
              "ticks": ""
             }
            },
            "type": "scattermapbox"
           }
          ],
          "scatterpolar": [
           {
            "marker": {
             "colorbar": {
              "outlinewidth": 0,
              "ticks": ""
             }
            },
            "type": "scatterpolar"
           }
          ],
          "scatterpolargl": [
           {
            "marker": {
             "colorbar": {
              "outlinewidth": 0,
              "ticks": ""
             }
            },
            "type": "scatterpolargl"
           }
          ],
          "scatterternary": [
           {
            "marker": {
             "colorbar": {
              "outlinewidth": 0,
              "ticks": ""
             }
            },
            "type": "scatterternary"
           }
          ],
          "surface": [
           {
            "colorbar": {
             "outlinewidth": 0,
             "ticks": ""
            },
            "colorscale": [
             [
              0,
              "#0d0887"
             ],
             [
              0.1111111111111111,
              "#46039f"
             ],
             [
              0.2222222222222222,
              "#7201a8"
             ],
             [
              0.3333333333333333,
              "#9c179e"
             ],
             [
              0.4444444444444444,
              "#bd3786"
             ],
             [
              0.5555555555555556,
              "#d8576b"
             ],
             [
              0.6666666666666666,
              "#ed7953"
             ],
             [
              0.7777777777777778,
              "#fb9f3a"
             ],
             [
              0.8888888888888888,
              "#fdca26"
             ],
             [
              1,
              "#f0f921"
             ]
            ],
            "type": "surface"
           }
          ],
          "table": [
           {
            "cells": {
             "fill": {
              "color": "#EBF0F8"
             },
             "line": {
              "color": "white"
             }
            },
            "header": {
             "fill": {
              "color": "#C8D4E3"
             },
             "line": {
              "color": "white"
             }
            },
            "type": "table"
           }
          ]
         },
         "layout": {
          "annotationdefaults": {
           "arrowcolor": "#2a3f5f",
           "arrowhead": 0,
           "arrowwidth": 1
          },
          "autotypenumbers": "strict",
          "coloraxis": {
           "colorbar": {
            "outlinewidth": 0,
            "ticks": ""
           }
          },
          "colorscale": {
           "diverging": [
            [
             0,
             "#8e0152"
            ],
            [
             0.1,
             "#c51b7d"
            ],
            [
             0.2,
             "#de77ae"
            ],
            [
             0.3,
             "#f1b6da"
            ],
            [
             0.4,
             "#fde0ef"
            ],
            [
             0.5,
             "#f7f7f7"
            ],
            [
             0.6,
             "#e6f5d0"
            ],
            [
             0.7,
             "#b8e186"
            ],
            [
             0.8,
             "#7fbc41"
            ],
            [
             0.9,
             "#4d9221"
            ],
            [
             1,
             "#276419"
            ]
           ],
           "sequential": [
            [
             0,
             "#0d0887"
            ],
            [
             0.1111111111111111,
             "#46039f"
            ],
            [
             0.2222222222222222,
             "#7201a8"
            ],
            [
             0.3333333333333333,
             "#9c179e"
            ],
            [
             0.4444444444444444,
             "#bd3786"
            ],
            [
             0.5555555555555556,
             "#d8576b"
            ],
            [
             0.6666666666666666,
             "#ed7953"
            ],
            [
             0.7777777777777778,
             "#fb9f3a"
            ],
            [
             0.8888888888888888,
             "#fdca26"
            ],
            [
             1,
             "#f0f921"
            ]
           ],
           "sequentialminus": [
            [
             0,
             "#0d0887"
            ],
            [
             0.1111111111111111,
             "#46039f"
            ],
            [
             0.2222222222222222,
             "#7201a8"
            ],
            [
             0.3333333333333333,
             "#9c179e"
            ],
            [
             0.4444444444444444,
             "#bd3786"
            ],
            [
             0.5555555555555556,
             "#d8576b"
            ],
            [
             0.6666666666666666,
             "#ed7953"
            ],
            [
             0.7777777777777778,
             "#fb9f3a"
            ],
            [
             0.8888888888888888,
             "#fdca26"
            ],
            [
             1,
             "#f0f921"
            ]
           ]
          },
          "colorway": [
           "#636efa",
           "#EF553B",
           "#00cc96",
           "#ab63fa",
           "#FFA15A",
           "#19d3f3",
           "#FF6692",
           "#B6E880",
           "#FF97FF",
           "#FECB52"
          ],
          "font": {
           "color": "#2a3f5f"
          },
          "geo": {
           "bgcolor": "white",
           "lakecolor": "white",
           "landcolor": "#E5ECF6",
           "showlakes": true,
           "showland": true,
           "subunitcolor": "white"
          },
          "hoverlabel": {
           "align": "left"
          },
          "hovermode": "closest",
          "mapbox": {
           "style": "light"
          },
          "paper_bgcolor": "white",
          "plot_bgcolor": "#E5ECF6",
          "polar": {
           "angularaxis": {
            "gridcolor": "white",
            "linecolor": "white",
            "ticks": ""
           },
           "bgcolor": "#E5ECF6",
           "radialaxis": {
            "gridcolor": "white",
            "linecolor": "white",
            "ticks": ""
           }
          },
          "scene": {
           "xaxis": {
            "backgroundcolor": "#E5ECF6",
            "gridcolor": "white",
            "gridwidth": 2,
            "linecolor": "white",
            "showbackground": true,
            "ticks": "",
            "zerolinecolor": "white"
           },
           "yaxis": {
            "backgroundcolor": "#E5ECF6",
            "gridcolor": "white",
            "gridwidth": 2,
            "linecolor": "white",
            "showbackground": true,
            "ticks": "",
            "zerolinecolor": "white"
           },
           "zaxis": {
            "backgroundcolor": "#E5ECF6",
            "gridcolor": "white",
            "gridwidth": 2,
            "linecolor": "white",
            "showbackground": true,
            "ticks": "",
            "zerolinecolor": "white"
           }
          },
          "shapedefaults": {
           "line": {
            "color": "#2a3f5f"
           }
          },
          "ternary": {
           "aaxis": {
            "gridcolor": "white",
            "linecolor": "white",
            "ticks": ""
           },
           "baxis": {
            "gridcolor": "white",
            "linecolor": "white",
            "ticks": ""
           },
           "bgcolor": "#E5ECF6",
           "caxis": {
            "gridcolor": "white",
            "linecolor": "white",
            "ticks": ""
           }
          },
          "title": {
           "x": 0.05
          },
          "xaxis": {
           "automargin": true,
           "gridcolor": "white",
           "linecolor": "white",
           "ticks": "",
           "title": {
            "standoff": 15
           },
           "zerolinecolor": "white",
           "zerolinewidth": 2
          },
          "yaxis": {
           "automargin": true,
           "gridcolor": "white",
           "linecolor": "white",
           "ticks": "",
           "title": {
            "standoff": 15
           },
           "zerolinecolor": "white",
           "zerolinewidth": 2
          }
         }
        },
        "width": 820,
        "xaxis": {
         "title": {
          "text": "HD vs. CMV -  Phenotype Classification"
         }
        },
        "yaxis": {
         "range": [
          0.2,
          1.001
         ],
         "title": {
          "text": "F-score"
         }
        }
       }
      },
      "text/html": [
       "<div>                            <div id=\"68a205fb-3436-4ed2-8c3a-ce41011f0118\" class=\"plotly-graph-div\" style=\"height:550px; width:820px;\"></div>            <script type=\"text/javascript\">                require([\"plotly\"], function(Plotly) {                    window.PLOTLYENV=window.PLOTLYENV || {};                                    if (document.getElementById(\"68a205fb-3436-4ed2-8c3a-ce41011f0118\")) {                    Plotly.newPlot(                        \"68a205fb-3436-4ed2-8c3a-ce41011f0118\",                        [{\"marker\":{\"color\":\"indianred\"},\"name\":\"CellCnn <br>  Centralized\",\"type\":\"box\",\"y\":[1.0,0.8,0.5,0.5,0.66666667,0.66666667,0.8,0.8,1.0,0.5]},{\"marker\":{\"color\":\"lightseagreen\"},\"name\":\"Local <br>  (N=2)\",\"type\":\"box\",\"y\":[0.41666667,0.5,0.53333333,0.34285714,0.33333333,0.5,0.45,0.33333333,0.53333333,0.56666667]},{\"marker\":{\"color\":\"blue\"},\"name\":\"<i>PriCell</i> <br>  (N=2)\",\"type\":\"box\",\"y\":[0.8,0.33,1.0,0.67,0.8,0.67,0.8,0.8,0.67,0.67]},{\"marker\":{\"color\":\"lightseagreen\"},\"name\":\"Local  <br> (N=3)\",\"type\":\"box\",\"y\":[0.48275862,0.49122807,0.4375,0.49122807,0.66666667,0.49122807,0.50859107,0.34285714,0.875,0.57971014]},{\"marker\":{\"color\":\"blue\"},\"name\":\"<i>PriCell</i> <br> (N=3)\",\"type\":\"box\",\"y\":[0.8,1.0,0.33,0.5,0.8,0.8,0.67,0.67,0.67,0.8]},{\"marker\":{\"color\":\"lightseagreen\"},\"name\":\"Local  <br> (N=5)\",\"type\":\"box\",\"y\":[0.3852459,0.39759036,0.3627907,0.3852459,0.40338983,0.51210191,0.225,0.54534884,0.36170213,0.53017751]},{\"marker\":{\"color\":\"blue\"},\"name\":\"<i>PriCell</i> <br> (N=5)\",\"type\":\"box\",\"y\":[0.57,0.67,0.8,0.8,0.67,0.67,0.5,0.8,0.8,0.8]}],                        {\"annotations\":[{\"font\":{\"color\":\"black\",\"size\":14},\"showarrow\":false,\"text\":\"p=1.00\",\"textangle\":0,\"x\":1.0,\"xref\":\"x\",\"y\":1.0914000000000001,\"yref\":\"y domain\"},{\"font\":{\"color\":\"black\",\"size\":14},\"showarrow\":false,\"text\":\"p=0.91\",\"textangle\":0,\"x\":2.0,\"xref\":\"x\",\"y\":1.1663000000000001,\"yref\":\"y domain\"},{\"font\":{\"color\":\"black\",\"size\":14},\"showarrow\":false,\"text\":\"p=1.00\",\"textangle\":0,\"x\":3.0,\"xref\":\"x\",\"y\":1.2412000000000003,\"yref\":\"y domain\"}],\"autosize\":false,\"boxgap\":0,\"font\":{\"size\":18},\"height\":550,\"paper_bgcolor\":\"rgb(243, 243, 243)\",\"plot_bgcolor\":\"aliceblue\",\"shapes\":[{\"line\":{\"color\":\"green\",\"dash\":\"dash\",\"width\":3},\"type\":\"line\",\"x0\":0,\"x1\":1,\"xref\":\"x domain\",\"y0\":0.733333335,\"y1\":0.733333335,\"yref\":\"y\"},{\"line\":{\"color\":\"black\",\"width\":2},\"type\":\"line\",\"x0\":0,\"x1\":0,\"xref\":\"x\",\"y0\":1.01,\"y1\":1.02,\"yref\":\"y domain\"},{\"line\":{\"color\":\"black\",\"width\":2},\"type\":\"line\",\"x0\":0,\"x1\":2,\"xref\":\"x\",\"y0\":1.02,\"y1\":1.02,\"yref\":\"y domain\"},{\"line\":{\"color\":\"black\",\"width\":2},\"type\":\"line\",\"x0\":2,\"x1\":2,\"xref\":\"x\",\"y0\":1.01,\"y1\":1.02,\"yref\":\"y domain\"},{\"line\":{\"color\":\"black\",\"width\":2},\"type\":\"line\",\"x0\":0,\"x1\":0,\"xref\":\"x\",\"y0\":1.08,\"y1\":1.09,\"yref\":\"y domain\"},{\"line\":{\"color\":\"black\",\"width\":2},\"type\":\"line\",\"x0\":0,\"x1\":4,\"xref\":\"x\",\"y0\":1.09,\"y1\":1.09,\"yref\":\"y domain\"},{\"line\":{\"color\":\"black\",\"width\":2},\"type\":\"line\",\"x0\":4,\"x1\":4,\"xref\":\"x\",\"y0\":1.08,\"y1\":1.09,\"yref\":\"y domain\"},{\"line\":{\"color\":\"black\",\"width\":2},\"type\":\"line\",\"x0\":0,\"x1\":0,\"xref\":\"x\",\"y0\":1.15,\"y1\":1.1600000000000001,\"yref\":\"y domain\"},{\"line\":{\"color\":\"black\",\"width\":2},\"type\":\"line\",\"x0\":0,\"x1\":6,\"xref\":\"x\",\"y0\":1.1600000000000001,\"y1\":1.1600000000000001,\"yref\":\"y domain\"},{\"line\":{\"color\":\"black\",\"width\":2},\"type\":\"line\",\"x0\":6,\"x1\":6,\"xref\":\"x\",\"y0\":1.15,\"y1\":1.1600000000000001,\"yref\":\"y domain\"}],\"showlegend\":false,\"template\":{\"data\":{\"bar\":[{\"error_x\":{\"color\":\"#2a3f5f\"},\"error_y\":{\"color\":\"#2a3f5f\"},\"marker\":{\"line\":{\"color\":\"#E5ECF6\",\"width\":0.5},\"pattern\":{\"fillmode\":\"overlay\",\"size\":10,\"solidity\":0.2}},\"type\":\"bar\"}],\"barpolar\":[{\"marker\":{\"line\":{\"color\":\"#E5ECF6\",\"width\":0.5},\"pattern\":{\"fillmode\":\"overlay\",\"size\":10,\"solidity\":0.2}},\"type\":\"barpolar\"}],\"carpet\":[{\"aaxis\":{\"endlinecolor\":\"#2a3f5f\",\"gridcolor\":\"white\",\"linecolor\":\"white\",\"minorgridcolor\":\"white\",\"startlinecolor\":\"#2a3f5f\"},\"baxis\":{\"endlinecolor\":\"#2a3f5f\",\"gridcolor\":\"white\",\"linecolor\":\"white\",\"minorgridcolor\":\"white\",\"startlinecolor\":\"#2a3f5f\"},\"type\":\"carpet\"}],\"choropleth\":[{\"colorbar\":{\"outlinewidth\":0,\"ticks\":\"\"},\"type\":\"choropleth\"}],\"contour\":[{\"colorbar\":{\"outlinewidth\":0,\"ticks\":\"\"},\"colorscale\":[[0.0,\"#0d0887\"],[0.1111111111111111,\"#46039f\"],[0.2222222222222222,\"#7201a8\"],[0.3333333333333333,\"#9c179e\"],[0.4444444444444444,\"#bd3786\"],[0.5555555555555556,\"#d8576b\"],[0.6666666666666666,\"#ed7953\"],[0.7777777777777778,\"#fb9f3a\"],[0.8888888888888888,\"#fdca26\"],[1.0,\"#f0f921\"]],\"type\":\"contour\"}],\"contourcarpet\":[{\"colorbar\":{\"outlinewidth\":0,\"ticks\":\"\"},\"type\":\"contourcarpet\"}],\"heatmap\":[{\"colorbar\":{\"outlinewidth\":0,\"ticks\":\"\"},\"colorscale\":[[0.0,\"#0d0887\"],[0.1111111111111111,\"#46039f\"],[0.2222222222222222,\"#7201a8\"],[0.3333333333333333,\"#9c179e\"],[0.4444444444444444,\"#bd3786\"],[0.5555555555555556,\"#d8576b\"],[0.6666666666666666,\"#ed7953\"],[0.7777777777777778,\"#fb9f3a\"],[0.8888888888888888,\"#fdca26\"],[1.0,\"#f0f921\"]],\"type\":\"heatmap\"}],\"heatmapgl\":[{\"colorbar\":{\"outlinewidth\":0,\"ticks\":\"\"},\"colorscale\":[[0.0,\"#0d0887\"],[0.1111111111111111,\"#46039f\"],[0.2222222222222222,\"#7201a8\"],[0.3333333333333333,\"#9c179e\"],[0.4444444444444444,\"#bd3786\"],[0.5555555555555556,\"#d8576b\"],[0.6666666666666666,\"#ed7953\"],[0.7777777777777778,\"#fb9f3a\"],[0.8888888888888888,\"#fdca26\"],[1.0,\"#f0f921\"]],\"type\":\"heatmapgl\"}],\"histogram\":[{\"marker\":{\"pattern\":{\"fillmode\":\"overlay\",\"size\":10,\"solidity\":0.2}},\"type\":\"histogram\"}],\"histogram2d\":[{\"colorbar\":{\"outlinewidth\":0,\"ticks\":\"\"},\"colorscale\":[[0.0,\"#0d0887\"],[0.1111111111111111,\"#46039f\"],[0.2222222222222222,\"#7201a8\"],[0.3333333333333333,\"#9c179e\"],[0.4444444444444444,\"#bd3786\"],[0.5555555555555556,\"#d8576b\"],[0.6666666666666666,\"#ed7953\"],[0.7777777777777778,\"#fb9f3a\"],[0.8888888888888888,\"#fdca26\"],[1.0,\"#f0f921\"]],\"type\":\"histogram2d\"}],\"histogram2dcontour\":[{\"colorbar\":{\"outlinewidth\":0,\"ticks\":\"\"},\"colorscale\":[[0.0,\"#0d0887\"],[0.1111111111111111,\"#46039f\"],[0.2222222222222222,\"#7201a8\"],[0.3333333333333333,\"#9c179e\"],[0.4444444444444444,\"#bd3786\"],[0.5555555555555556,\"#d8576b\"],[0.6666666666666666,\"#ed7953\"],[0.7777777777777778,\"#fb9f3a\"],[0.8888888888888888,\"#fdca26\"],[1.0,\"#f0f921\"]],\"type\":\"histogram2dcontour\"}],\"mesh3d\":[{\"colorbar\":{\"outlinewidth\":0,\"ticks\":\"\"},\"type\":\"mesh3d\"}],\"parcoords\":[{\"line\":{\"colorbar\":{\"outlinewidth\":0,\"ticks\":\"\"}},\"type\":\"parcoords\"}],\"pie\":[{\"automargin\":true,\"type\":\"pie\"}],\"scatter\":[{\"marker\":{\"colorbar\":{\"outlinewidth\":0,\"ticks\":\"\"}},\"type\":\"scatter\"}],\"scatter3d\":[{\"line\":{\"colorbar\":{\"outlinewidth\":0,\"ticks\":\"\"}},\"marker\":{\"colorbar\":{\"outlinewidth\":0,\"ticks\":\"\"}},\"type\":\"scatter3d\"}],\"scattercarpet\":[{\"marker\":{\"colorbar\":{\"outlinewidth\":0,\"ticks\":\"\"}},\"type\":\"scattercarpet\"}],\"scattergeo\":[{\"marker\":{\"colorbar\":{\"outlinewidth\":0,\"ticks\":\"\"}},\"type\":\"scattergeo\"}],\"scattergl\":[{\"marker\":{\"colorbar\":{\"outlinewidth\":0,\"ticks\":\"\"}},\"type\":\"scattergl\"}],\"scattermapbox\":[{\"marker\":{\"colorbar\":{\"outlinewidth\":0,\"ticks\":\"\"}},\"type\":\"scattermapbox\"}],\"scatterpolar\":[{\"marker\":{\"colorbar\":{\"outlinewidth\":0,\"ticks\":\"\"}},\"type\":\"scatterpolar\"}],\"scatterpolargl\":[{\"marker\":{\"colorbar\":{\"outlinewidth\":0,\"ticks\":\"\"}},\"type\":\"scatterpolargl\"}],\"scatterternary\":[{\"marker\":{\"colorbar\":{\"outlinewidth\":0,\"ticks\":\"\"}},\"type\":\"scatterternary\"}],\"surface\":[{\"colorbar\":{\"outlinewidth\":0,\"ticks\":\"\"},\"colorscale\":[[0.0,\"#0d0887\"],[0.1111111111111111,\"#46039f\"],[0.2222222222222222,\"#7201a8\"],[0.3333333333333333,\"#9c179e\"],[0.4444444444444444,\"#bd3786\"],[0.5555555555555556,\"#d8576b\"],[0.6666666666666666,\"#ed7953\"],[0.7777777777777778,\"#fb9f3a\"],[0.8888888888888888,\"#fdca26\"],[1.0,\"#f0f921\"]],\"type\":\"surface\"}],\"table\":[{\"cells\":{\"fill\":{\"color\":\"#EBF0F8\"},\"line\":{\"color\":\"white\"}},\"header\":{\"fill\":{\"color\":\"#C8D4E3\"},\"line\":{\"color\":\"white\"}},\"type\":\"table\"}]},\"layout\":{\"annotationdefaults\":{\"arrowcolor\":\"#2a3f5f\",\"arrowhead\":0,\"arrowwidth\":1},\"autotypenumbers\":\"strict\",\"coloraxis\":{\"colorbar\":{\"outlinewidth\":0,\"ticks\":\"\"}},\"colorscale\":{\"diverging\":[[0,\"#8e0152\"],[0.1,\"#c51b7d\"],[0.2,\"#de77ae\"],[0.3,\"#f1b6da\"],[0.4,\"#fde0ef\"],[0.5,\"#f7f7f7\"],[0.6,\"#e6f5d0\"],[0.7,\"#b8e186\"],[0.8,\"#7fbc41\"],[0.9,\"#4d9221\"],[1,\"#276419\"]],\"sequential\":[[0.0,\"#0d0887\"],[0.1111111111111111,\"#46039f\"],[0.2222222222222222,\"#7201a8\"],[0.3333333333333333,\"#9c179e\"],[0.4444444444444444,\"#bd3786\"],[0.5555555555555556,\"#d8576b\"],[0.6666666666666666,\"#ed7953\"],[0.7777777777777778,\"#fb9f3a\"],[0.8888888888888888,\"#fdca26\"],[1.0,\"#f0f921\"]],\"sequentialminus\":[[0.0,\"#0d0887\"],[0.1111111111111111,\"#46039f\"],[0.2222222222222222,\"#7201a8\"],[0.3333333333333333,\"#9c179e\"],[0.4444444444444444,\"#bd3786\"],[0.5555555555555556,\"#d8576b\"],[0.6666666666666666,\"#ed7953\"],[0.7777777777777778,\"#fb9f3a\"],[0.8888888888888888,\"#fdca26\"],[1.0,\"#f0f921\"]]},\"colorway\":[\"#636efa\",\"#EF553B\",\"#00cc96\",\"#ab63fa\",\"#FFA15A\",\"#19d3f3\",\"#FF6692\",\"#B6E880\",\"#FF97FF\",\"#FECB52\"],\"font\":{\"color\":\"#2a3f5f\"},\"geo\":{\"bgcolor\":\"white\",\"lakecolor\":\"white\",\"landcolor\":\"#E5ECF6\",\"showlakes\":true,\"showland\":true,\"subunitcolor\":\"white\"},\"hoverlabel\":{\"align\":\"left\"},\"hovermode\":\"closest\",\"mapbox\":{\"style\":\"light\"},\"paper_bgcolor\":\"white\",\"plot_bgcolor\":\"#E5ECF6\",\"polar\":{\"angularaxis\":{\"gridcolor\":\"white\",\"linecolor\":\"white\",\"ticks\":\"\"},\"bgcolor\":\"#E5ECF6\",\"radialaxis\":{\"gridcolor\":\"white\",\"linecolor\":\"white\",\"ticks\":\"\"}},\"scene\":{\"xaxis\":{\"backgroundcolor\":\"#E5ECF6\",\"gridcolor\":\"white\",\"gridwidth\":2,\"linecolor\":\"white\",\"showbackground\":true,\"ticks\":\"\",\"zerolinecolor\":\"white\"},\"yaxis\":{\"backgroundcolor\":\"#E5ECF6\",\"gridcolor\":\"white\",\"gridwidth\":2,\"linecolor\":\"white\",\"showbackground\":true,\"ticks\":\"\",\"zerolinecolor\":\"white\"},\"zaxis\":{\"backgroundcolor\":\"#E5ECF6\",\"gridcolor\":\"white\",\"gridwidth\":2,\"linecolor\":\"white\",\"showbackground\":true,\"ticks\":\"\",\"zerolinecolor\":\"white\"}},\"shapedefaults\":{\"line\":{\"color\":\"#2a3f5f\"}},\"ternary\":{\"aaxis\":{\"gridcolor\":\"white\",\"linecolor\":\"white\",\"ticks\":\"\"},\"baxis\":{\"gridcolor\":\"white\",\"linecolor\":\"white\",\"ticks\":\"\"},\"bgcolor\":\"#E5ECF6\",\"caxis\":{\"gridcolor\":\"white\",\"linecolor\":\"white\",\"ticks\":\"\"}},\"title\":{\"x\":0.05},\"xaxis\":{\"automargin\":true,\"gridcolor\":\"white\",\"linecolor\":\"white\",\"ticks\":\"\",\"title\":{\"standoff\":15},\"zerolinecolor\":\"white\",\"zerolinewidth\":2},\"yaxis\":{\"automargin\":true,\"gridcolor\":\"white\",\"linecolor\":\"white\",\"ticks\":\"\",\"title\":{\"standoff\":15},\"zerolinecolor\":\"white\",\"zerolinewidth\":2}}},\"width\":820,\"xaxis\":{\"title\":{\"text\":\"HD vs. CMV -  Phenotype Classification\"}},\"yaxis\":{\"range\":[0.2,1.001],\"title\":{\"text\":\"F-score\"}}},                        {\"responsive\": true}                    ).then(function(){\n",
       "                            \n",
       "var gd = document.getElementById('68a205fb-3436-4ed2-8c3a-ce41011f0118');\n",
       "var x = new MutationObserver(function (mutations, observer) {{\n",
       "        var display = window.getComputedStyle(gd).display;\n",
       "        if (!display || display === 'none') {{\n",
       "            console.log([gd, 'removed!']);\n",
       "            Plotly.purge(gd);\n",
       "            observer.disconnect();\n",
       "        }}\n",
       "}});\n",
       "\n",
       "// Listen for the removal of the full notebook cells\n",
       "var notebookContainer = gd.closest('#notebook-container');\n",
       "if (notebookContainer) {{\n",
       "    x.observe(notebookContainer, {childList: true});\n",
       "}}\n",
       "\n",
       "// Listen for the clearing of the current output cell\n",
       "var outputEl = gd.closest('.output');\n",
       "if (outputEl) {{\n",
       "    x.observe(outputEl, {childList: true});\n",
       "}}\n",
       "\n",
       "                        })                };                });            </script>        </div>"
      ]
     },
     "metadata": {},
     "output_type": "display_data"
    },
    {
     "data": {
      "application/vnd.plotly.v1+json": {
       "config": {
        "plotlyServerURL": "https://plot.ly"
       },
       "data": [
        {
         "marker": {
          "color": "indianred"
         },
         "name": "CellCnn  <br> Centralized",
         "type": "box",
         "y": [
          0.98687144,
          0.73395785,
          0.57752489,
          0.80677693,
          0.85140208,
          0.79566004,
          0.57142857,
          0.86633439,
          0.87370964,
          0.99676053
         ]
        },
        {
         "marker": {
          "color": "lightseagreen"
         },
         "name": "Local  <br> (N=2)",
         "type": "box",
         "y": [
          0.42210097,
          0.49226869,
          0.63689032,
          0.51615398,
          0.37637154,
          0.55043184,
          0.52069019,
          0.39552118,
          0.56890796,
          0.56952781
         ]
        },
        {
         "marker": {
          "color": "blue"
         },
         "name": "<i>PriCell</i> <br>  (N=2)",
         "type": "box",
         "y": [
          0.75,
          0.44,
          0.94,
          0.83,
          0.86,
          0.73,
          0.66,
          0.9,
          0.83,
          0.83
         ]
        },
        {
         "marker": {
          "color": "lightseagreen"
         },
         "name": "Local <br>  (N=3)",
         "type": "box",
         "y": [
          0.55612346,
          0.60421573,
          0.52445189,
          0.58833978,
          0.72469597,
          0.56341345,
          0.58585505,
          0.63689032,
          0.87072573,
          0.72196438
         ]
        },
        {
         "marker": {
          "color": "blue"
         },
         "name": "<i>PriCell</i> <br> (N=3)",
         "type": "box",
         "y": [
          0.57,
          0.9,
          0.52,
          0.89,
          0.86,
          0.67,
          0.8,
          0.85,
          0.78,
          0.8
         ]
        },
        {
         "marker": {
          "color": "lightseagreen"
         },
         "name": "Local <br>  (N=5)",
         "type": "box",
         "y": [
          0.49594017,
          0.42754241,
          0.47035634,
          0.52805043,
          0.50624853,
          0.60246997,
          0.28330805,
          0.59258731,
          0.46479141,
          0.60130429
         ]
        },
        {
         "marker": {
          "color": "blue"
         },
         "name": "<i>PriCell</i> <br>  (N=5)",
         "type": "box",
         "y": [
          0.73,
          0.68,
          0.88,
          0.83,
          0.8,
          0.79,
          0.67,
          0.89,
          0.98,
          0.87
         ]
        }
       ],
       "layout": {
        "annotations": [
         {
          "font": {
           "color": "black",
           "size": 14
          },
          "showarrow": false,
          "text": "p=0.62",
          "textangle": 0,
          "x": 1,
          "xref": "x",
          "y": 1.0914000000000001,
          "yref": "y domain"
         },
         {
          "font": {
           "color": "black",
           "size": 14
          },
          "showarrow": false,
          "text": "p=0.56",
          "textangle": 0,
          "x": 2,
          "xref": "x",
          "y": 1.1663000000000001,
          "yref": "y domain"
         },
         {
          "font": {
           "color": "black",
           "size": 14
          },
          "showarrow": false,
          "text": "p=1.00",
          "textangle": 0,
          "x": 3,
          "xref": "x",
          "y": 1.2412000000000003,
          "yref": "y domain"
         }
        ],
        "autosize": false,
        "boxgap": 0,
        "font": {
         "size": 18
        },
        "height": 550,
        "paper_bgcolor": "rgb(243, 243, 243)",
        "plot_bgcolor": "aliceblue",
        "shapes": [
         {
          "line": {
           "color": "green",
           "dash": "dash",
           "width": 3
          },
          "type": "line",
          "x0": 0,
          "x1": 1,
          "xref": "x domain",
          "y0": 0.829089505,
          "y1": 0.829089505,
          "yref": "y"
         },
         {
          "line": {
           "color": "black",
           "width": 2
          },
          "type": "line",
          "x0": 0,
          "x1": 0,
          "xref": "x",
          "y0": 1.01,
          "y1": 1.02,
          "yref": "y domain"
         },
         {
          "line": {
           "color": "black",
           "width": 2
          },
          "type": "line",
          "x0": 0,
          "x1": 2,
          "xref": "x",
          "y0": 1.02,
          "y1": 1.02,
          "yref": "y domain"
         },
         {
          "line": {
           "color": "black",
           "width": 2
          },
          "type": "line",
          "x0": 2,
          "x1": 2,
          "xref": "x",
          "y0": 1.01,
          "y1": 1.02,
          "yref": "y domain"
         },
         {
          "line": {
           "color": "black",
           "width": 2
          },
          "type": "line",
          "x0": 0,
          "x1": 0,
          "xref": "x",
          "y0": 1.08,
          "y1": 1.09,
          "yref": "y domain"
         },
         {
          "line": {
           "color": "black",
           "width": 2
          },
          "type": "line",
          "x0": 0,
          "x1": 4,
          "xref": "x",
          "y0": 1.09,
          "y1": 1.09,
          "yref": "y domain"
         },
         {
          "line": {
           "color": "black",
           "width": 2
          },
          "type": "line",
          "x0": 4,
          "x1": 4,
          "xref": "x",
          "y0": 1.08,
          "y1": 1.09,
          "yref": "y domain"
         },
         {
          "line": {
           "color": "black",
           "width": 2
          },
          "type": "line",
          "x0": 0,
          "x1": 0,
          "xref": "x",
          "y0": 1.15,
          "y1": 1.1600000000000001,
          "yref": "y domain"
         },
         {
          "line": {
           "color": "black",
           "width": 2
          },
          "type": "line",
          "x0": 0,
          "x1": 6,
          "xref": "x",
          "y0": 1.1600000000000001,
          "y1": 1.1600000000000001,
          "yref": "y domain"
         },
         {
          "line": {
           "color": "black",
           "width": 2
          },
          "type": "line",
          "x0": 6,
          "x1": 6,
          "xref": "x",
          "y0": 1.15,
          "y1": 1.1600000000000001,
          "yref": "y domain"
         }
        ],
        "showlegend": false,
        "template": {
         "data": {
          "bar": [
           {
            "error_x": {
             "color": "#2a3f5f"
            },
            "error_y": {
             "color": "#2a3f5f"
            },
            "marker": {
             "line": {
              "color": "#E5ECF6",
              "width": 0.5
             },
             "pattern": {
              "fillmode": "overlay",
              "size": 10,
              "solidity": 0.2
             }
            },
            "type": "bar"
           }
          ],
          "barpolar": [
           {
            "marker": {
             "line": {
              "color": "#E5ECF6",
              "width": 0.5
             },
             "pattern": {
              "fillmode": "overlay",
              "size": 10,
              "solidity": 0.2
             }
            },
            "type": "barpolar"
           }
          ],
          "carpet": [
           {
            "aaxis": {
             "endlinecolor": "#2a3f5f",
             "gridcolor": "white",
             "linecolor": "white",
             "minorgridcolor": "white",
             "startlinecolor": "#2a3f5f"
            },
            "baxis": {
             "endlinecolor": "#2a3f5f",
             "gridcolor": "white",
             "linecolor": "white",
             "minorgridcolor": "white",
             "startlinecolor": "#2a3f5f"
            },
            "type": "carpet"
           }
          ],
          "choropleth": [
           {
            "colorbar": {
             "outlinewidth": 0,
             "ticks": ""
            },
            "type": "choropleth"
           }
          ],
          "contour": [
           {
            "colorbar": {
             "outlinewidth": 0,
             "ticks": ""
            },
            "colorscale": [
             [
              0,
              "#0d0887"
             ],
             [
              0.1111111111111111,
              "#46039f"
             ],
             [
              0.2222222222222222,
              "#7201a8"
             ],
             [
              0.3333333333333333,
              "#9c179e"
             ],
             [
              0.4444444444444444,
              "#bd3786"
             ],
             [
              0.5555555555555556,
              "#d8576b"
             ],
             [
              0.6666666666666666,
              "#ed7953"
             ],
             [
              0.7777777777777778,
              "#fb9f3a"
             ],
             [
              0.8888888888888888,
              "#fdca26"
             ],
             [
              1,
              "#f0f921"
             ]
            ],
            "type": "contour"
           }
          ],
          "contourcarpet": [
           {
            "colorbar": {
             "outlinewidth": 0,
             "ticks": ""
            },
            "type": "contourcarpet"
           }
          ],
          "heatmap": [
           {
            "colorbar": {
             "outlinewidth": 0,
             "ticks": ""
            },
            "colorscale": [
             [
              0,
              "#0d0887"
             ],
             [
              0.1111111111111111,
              "#46039f"
             ],
             [
              0.2222222222222222,
              "#7201a8"
             ],
             [
              0.3333333333333333,
              "#9c179e"
             ],
             [
              0.4444444444444444,
              "#bd3786"
             ],
             [
              0.5555555555555556,
              "#d8576b"
             ],
             [
              0.6666666666666666,
              "#ed7953"
             ],
             [
              0.7777777777777778,
              "#fb9f3a"
             ],
             [
              0.8888888888888888,
              "#fdca26"
             ],
             [
              1,
              "#f0f921"
             ]
            ],
            "type": "heatmap"
           }
          ],
          "heatmapgl": [
           {
            "colorbar": {
             "outlinewidth": 0,
             "ticks": ""
            },
            "colorscale": [
             [
              0,
              "#0d0887"
             ],
             [
              0.1111111111111111,
              "#46039f"
             ],
             [
              0.2222222222222222,
              "#7201a8"
             ],
             [
              0.3333333333333333,
              "#9c179e"
             ],
             [
              0.4444444444444444,
              "#bd3786"
             ],
             [
              0.5555555555555556,
              "#d8576b"
             ],
             [
              0.6666666666666666,
              "#ed7953"
             ],
             [
              0.7777777777777778,
              "#fb9f3a"
             ],
             [
              0.8888888888888888,
              "#fdca26"
             ],
             [
              1,
              "#f0f921"
             ]
            ],
            "type": "heatmapgl"
           }
          ],
          "histogram": [
           {
            "marker": {
             "pattern": {
              "fillmode": "overlay",
              "size": 10,
              "solidity": 0.2
             }
            },
            "type": "histogram"
           }
          ],
          "histogram2d": [
           {
            "colorbar": {
             "outlinewidth": 0,
             "ticks": ""
            },
            "colorscale": [
             [
              0,
              "#0d0887"
             ],
             [
              0.1111111111111111,
              "#46039f"
             ],
             [
              0.2222222222222222,
              "#7201a8"
             ],
             [
              0.3333333333333333,
              "#9c179e"
             ],
             [
              0.4444444444444444,
              "#bd3786"
             ],
             [
              0.5555555555555556,
              "#d8576b"
             ],
             [
              0.6666666666666666,
              "#ed7953"
             ],
             [
              0.7777777777777778,
              "#fb9f3a"
             ],
             [
              0.8888888888888888,
              "#fdca26"
             ],
             [
              1,
              "#f0f921"
             ]
            ],
            "type": "histogram2d"
           }
          ],
          "histogram2dcontour": [
           {
            "colorbar": {
             "outlinewidth": 0,
             "ticks": ""
            },
            "colorscale": [
             [
              0,
              "#0d0887"
             ],
             [
              0.1111111111111111,
              "#46039f"
             ],
             [
              0.2222222222222222,
              "#7201a8"
             ],
             [
              0.3333333333333333,
              "#9c179e"
             ],
             [
              0.4444444444444444,
              "#bd3786"
             ],
             [
              0.5555555555555556,
              "#d8576b"
             ],
             [
              0.6666666666666666,
              "#ed7953"
             ],
             [
              0.7777777777777778,
              "#fb9f3a"
             ],
             [
              0.8888888888888888,
              "#fdca26"
             ],
             [
              1,
              "#f0f921"
             ]
            ],
            "type": "histogram2dcontour"
           }
          ],
          "mesh3d": [
           {
            "colorbar": {
             "outlinewidth": 0,
             "ticks": ""
            },
            "type": "mesh3d"
           }
          ],
          "parcoords": [
           {
            "line": {
             "colorbar": {
              "outlinewidth": 0,
              "ticks": ""
             }
            },
            "type": "parcoords"
           }
          ],
          "pie": [
           {
            "automargin": true,
            "type": "pie"
           }
          ],
          "scatter": [
           {
            "marker": {
             "colorbar": {
              "outlinewidth": 0,
              "ticks": ""
             }
            },
            "type": "scatter"
           }
          ],
          "scatter3d": [
           {
            "line": {
             "colorbar": {
              "outlinewidth": 0,
              "ticks": ""
             }
            },
            "marker": {
             "colorbar": {
              "outlinewidth": 0,
              "ticks": ""
             }
            },
            "type": "scatter3d"
           }
          ],
          "scattercarpet": [
           {
            "marker": {
             "colorbar": {
              "outlinewidth": 0,
              "ticks": ""
             }
            },
            "type": "scattercarpet"
           }
          ],
          "scattergeo": [
           {
            "marker": {
             "colorbar": {
              "outlinewidth": 0,
              "ticks": ""
             }
            },
            "type": "scattergeo"
           }
          ],
          "scattergl": [
           {
            "marker": {
             "colorbar": {
              "outlinewidth": 0,
              "ticks": ""
             }
            },
            "type": "scattergl"
           }
          ],
          "scattermapbox": [
           {
            "marker": {
             "colorbar": {
              "outlinewidth": 0,
              "ticks": ""
             }
            },
            "type": "scattermapbox"
           }
          ],
          "scatterpolar": [
           {
            "marker": {
             "colorbar": {
              "outlinewidth": 0,
              "ticks": ""
             }
            },
            "type": "scatterpolar"
           }
          ],
          "scatterpolargl": [
           {
            "marker": {
             "colorbar": {
              "outlinewidth": 0,
              "ticks": ""
             }
            },
            "type": "scatterpolargl"
           }
          ],
          "scatterternary": [
           {
            "marker": {
             "colorbar": {
              "outlinewidth": 0,
              "ticks": ""
             }
            },
            "type": "scatterternary"
           }
          ],
          "surface": [
           {
            "colorbar": {
             "outlinewidth": 0,
             "ticks": ""
            },
            "colorscale": [
             [
              0,
              "#0d0887"
             ],
             [
              0.1111111111111111,
              "#46039f"
             ],
             [
              0.2222222222222222,
              "#7201a8"
             ],
             [
              0.3333333333333333,
              "#9c179e"
             ],
             [
              0.4444444444444444,
              "#bd3786"
             ],
             [
              0.5555555555555556,
              "#d8576b"
             ],
             [
              0.6666666666666666,
              "#ed7953"
             ],
             [
              0.7777777777777778,
              "#fb9f3a"
             ],
             [
              0.8888888888888888,
              "#fdca26"
             ],
             [
              1,
              "#f0f921"
             ]
            ],
            "type": "surface"
           }
          ],
          "table": [
           {
            "cells": {
             "fill": {
              "color": "#EBF0F8"
             },
             "line": {
              "color": "white"
             }
            },
            "header": {
             "fill": {
              "color": "#C8D4E3"
             },
             "line": {
              "color": "white"
             }
            },
            "type": "table"
           }
          ]
         },
         "layout": {
          "annotationdefaults": {
           "arrowcolor": "#2a3f5f",
           "arrowhead": 0,
           "arrowwidth": 1
          },
          "autotypenumbers": "strict",
          "coloraxis": {
           "colorbar": {
            "outlinewidth": 0,
            "ticks": ""
           }
          },
          "colorscale": {
           "diverging": [
            [
             0,
             "#8e0152"
            ],
            [
             0.1,
             "#c51b7d"
            ],
            [
             0.2,
             "#de77ae"
            ],
            [
             0.3,
             "#f1b6da"
            ],
            [
             0.4,
             "#fde0ef"
            ],
            [
             0.5,
             "#f7f7f7"
            ],
            [
             0.6,
             "#e6f5d0"
            ],
            [
             0.7,
             "#b8e186"
            ],
            [
             0.8,
             "#7fbc41"
            ],
            [
             0.9,
             "#4d9221"
            ],
            [
             1,
             "#276419"
            ]
           ],
           "sequential": [
            [
             0,
             "#0d0887"
            ],
            [
             0.1111111111111111,
             "#46039f"
            ],
            [
             0.2222222222222222,
             "#7201a8"
            ],
            [
             0.3333333333333333,
             "#9c179e"
            ],
            [
             0.4444444444444444,
             "#bd3786"
            ],
            [
             0.5555555555555556,
             "#d8576b"
            ],
            [
             0.6666666666666666,
             "#ed7953"
            ],
            [
             0.7777777777777778,
             "#fb9f3a"
            ],
            [
             0.8888888888888888,
             "#fdca26"
            ],
            [
             1,
             "#f0f921"
            ]
           ],
           "sequentialminus": [
            [
             0,
             "#0d0887"
            ],
            [
             0.1111111111111111,
             "#46039f"
            ],
            [
             0.2222222222222222,
             "#7201a8"
            ],
            [
             0.3333333333333333,
             "#9c179e"
            ],
            [
             0.4444444444444444,
             "#bd3786"
            ],
            [
             0.5555555555555556,
             "#d8576b"
            ],
            [
             0.6666666666666666,
             "#ed7953"
            ],
            [
             0.7777777777777778,
             "#fb9f3a"
            ],
            [
             0.8888888888888888,
             "#fdca26"
            ],
            [
             1,
             "#f0f921"
            ]
           ]
          },
          "colorway": [
           "#636efa",
           "#EF553B",
           "#00cc96",
           "#ab63fa",
           "#FFA15A",
           "#19d3f3",
           "#FF6692",
           "#B6E880",
           "#FF97FF",
           "#FECB52"
          ],
          "font": {
           "color": "#2a3f5f"
          },
          "geo": {
           "bgcolor": "white",
           "lakecolor": "white",
           "landcolor": "#E5ECF6",
           "showlakes": true,
           "showland": true,
           "subunitcolor": "white"
          },
          "hoverlabel": {
           "align": "left"
          },
          "hovermode": "closest",
          "mapbox": {
           "style": "light"
          },
          "paper_bgcolor": "white",
          "plot_bgcolor": "#E5ECF6",
          "polar": {
           "angularaxis": {
            "gridcolor": "white",
            "linecolor": "white",
            "ticks": ""
           },
           "bgcolor": "#E5ECF6",
           "radialaxis": {
            "gridcolor": "white",
            "linecolor": "white",
            "ticks": ""
           }
          },
          "scene": {
           "xaxis": {
            "backgroundcolor": "#E5ECF6",
            "gridcolor": "white",
            "gridwidth": 2,
            "linecolor": "white",
            "showbackground": true,
            "ticks": "",
            "zerolinecolor": "white"
           },
           "yaxis": {
            "backgroundcolor": "#E5ECF6",
            "gridcolor": "white",
            "gridwidth": 2,
            "linecolor": "white",
            "showbackground": true,
            "ticks": "",
            "zerolinecolor": "white"
           },
           "zaxis": {
            "backgroundcolor": "#E5ECF6",
            "gridcolor": "white",
            "gridwidth": 2,
            "linecolor": "white",
            "showbackground": true,
            "ticks": "",
            "zerolinecolor": "white"
           }
          },
          "shapedefaults": {
           "line": {
            "color": "#2a3f5f"
           }
          },
          "ternary": {
           "aaxis": {
            "gridcolor": "white",
            "linecolor": "white",
            "ticks": ""
           },
           "baxis": {
            "gridcolor": "white",
            "linecolor": "white",
            "ticks": ""
           },
           "bgcolor": "#E5ECF6",
           "caxis": {
            "gridcolor": "white",
            "linecolor": "white",
            "ticks": ""
           }
          },
          "title": {
           "x": 0.05
          },
          "xaxis": {
           "automargin": true,
           "gridcolor": "white",
           "linecolor": "white",
           "ticks": "",
           "title": {
            "standoff": 15
           },
           "zerolinecolor": "white",
           "zerolinewidth": 2
          },
          "yaxis": {
           "automargin": true,
           "gridcolor": "white",
           "linecolor": "white",
           "ticks": "",
           "title": {
            "standoff": 15
           },
           "zerolinecolor": "white",
           "zerolinewidth": 2
          }
         }
        },
        "width": 820,
        "xaxis": {
         "title": {
          "text": "HD vs. CMV -  Multi-Cell Classification"
         }
        },
        "yaxis": {
         "range": [
          0.2,
          1.001
         ],
         "title": {
          "text": "F-score"
         }
        }
       }
      },
      "text/html": [
       "<div>                            <div id=\"2713c97f-2ed2-4861-a847-ac51afbb25fb\" class=\"plotly-graph-div\" style=\"height:550px; width:820px;\"></div>            <script type=\"text/javascript\">                require([\"plotly\"], function(Plotly) {                    window.PLOTLYENV=window.PLOTLYENV || {};                                    if (document.getElementById(\"2713c97f-2ed2-4861-a847-ac51afbb25fb\")) {                    Plotly.newPlot(                        \"2713c97f-2ed2-4861-a847-ac51afbb25fb\",                        [{\"marker\":{\"color\":\"indianred\"},\"name\":\"CellCnn  <br> Centralized\",\"type\":\"box\",\"y\":[0.98687144,0.73395785,0.57752489,0.80677693,0.85140208,0.79566004,0.57142857,0.86633439,0.87370964,0.99676053]},{\"marker\":{\"color\":\"lightseagreen\"},\"name\":\"Local  <br> (N=2)\",\"type\":\"box\",\"y\":[0.42210097,0.49226869,0.63689032,0.51615398,0.37637154,0.55043184,0.52069019,0.39552118,0.56890796,0.56952781]},{\"marker\":{\"color\":\"blue\"},\"name\":\"<i>PriCell</i> <br>  (N=2)\",\"type\":\"box\",\"y\":[0.75,0.44,0.94,0.83,0.86,0.73,0.66,0.9,0.83,0.83]},{\"marker\":{\"color\":\"lightseagreen\"},\"name\":\"Local <br>  (N=3)\",\"type\":\"box\",\"y\":[0.55612346,0.60421573,0.52445189,0.58833978,0.72469597,0.56341345,0.58585505,0.63689032,0.87072573,0.72196438]},{\"marker\":{\"color\":\"blue\"},\"name\":\"<i>PriCell</i> <br> (N=3)\",\"type\":\"box\",\"y\":[0.57,0.9,0.52,0.89,0.86,0.67,0.8,0.85,0.78,0.8]},{\"marker\":{\"color\":\"lightseagreen\"},\"name\":\"Local <br>  (N=5)\",\"type\":\"box\",\"y\":[0.49594017,0.42754241,0.47035634,0.52805043,0.50624853,0.60246997,0.28330805,0.59258731,0.46479141,0.60130429]},{\"marker\":{\"color\":\"blue\"},\"name\":\"<i>PriCell</i> <br>  (N=5)\",\"type\":\"box\",\"y\":[0.73,0.68,0.88,0.83,0.8,0.79,0.67,0.89,0.98,0.87]}],                        {\"annotations\":[{\"font\":{\"color\":\"black\",\"size\":14},\"showarrow\":false,\"text\":\"p=0.62\",\"textangle\":0,\"x\":1.0,\"xref\":\"x\",\"y\":1.0914000000000001,\"yref\":\"y domain\"},{\"font\":{\"color\":\"black\",\"size\":14},\"showarrow\":false,\"text\":\"p=0.56\",\"textangle\":0,\"x\":2.0,\"xref\":\"x\",\"y\":1.1663000000000001,\"yref\":\"y domain\"},{\"font\":{\"color\":\"black\",\"size\":14},\"showarrow\":false,\"text\":\"p=1.00\",\"textangle\":0,\"x\":3.0,\"xref\":\"x\",\"y\":1.2412000000000003,\"yref\":\"y domain\"}],\"autosize\":false,\"boxgap\":0,\"font\":{\"size\":18},\"height\":550,\"paper_bgcolor\":\"rgb(243, 243, 243)\",\"plot_bgcolor\":\"aliceblue\",\"shapes\":[{\"line\":{\"color\":\"green\",\"dash\":\"dash\",\"width\":3},\"type\":\"line\",\"x0\":0,\"x1\":1,\"xref\":\"x domain\",\"y0\":0.829089505,\"y1\":0.829089505,\"yref\":\"y\"},{\"line\":{\"color\":\"black\",\"width\":2},\"type\":\"line\",\"x0\":0,\"x1\":0,\"xref\":\"x\",\"y0\":1.01,\"y1\":1.02,\"yref\":\"y domain\"},{\"line\":{\"color\":\"black\",\"width\":2},\"type\":\"line\",\"x0\":0,\"x1\":2,\"xref\":\"x\",\"y0\":1.02,\"y1\":1.02,\"yref\":\"y domain\"},{\"line\":{\"color\":\"black\",\"width\":2},\"type\":\"line\",\"x0\":2,\"x1\":2,\"xref\":\"x\",\"y0\":1.01,\"y1\":1.02,\"yref\":\"y domain\"},{\"line\":{\"color\":\"black\",\"width\":2},\"type\":\"line\",\"x0\":0,\"x1\":0,\"xref\":\"x\",\"y0\":1.08,\"y1\":1.09,\"yref\":\"y domain\"},{\"line\":{\"color\":\"black\",\"width\":2},\"type\":\"line\",\"x0\":0,\"x1\":4,\"xref\":\"x\",\"y0\":1.09,\"y1\":1.09,\"yref\":\"y domain\"},{\"line\":{\"color\":\"black\",\"width\":2},\"type\":\"line\",\"x0\":4,\"x1\":4,\"xref\":\"x\",\"y0\":1.08,\"y1\":1.09,\"yref\":\"y domain\"},{\"line\":{\"color\":\"black\",\"width\":2},\"type\":\"line\",\"x0\":0,\"x1\":0,\"xref\":\"x\",\"y0\":1.15,\"y1\":1.1600000000000001,\"yref\":\"y domain\"},{\"line\":{\"color\":\"black\",\"width\":2},\"type\":\"line\",\"x0\":0,\"x1\":6,\"xref\":\"x\",\"y0\":1.1600000000000001,\"y1\":1.1600000000000001,\"yref\":\"y domain\"},{\"line\":{\"color\":\"black\",\"width\":2},\"type\":\"line\",\"x0\":6,\"x1\":6,\"xref\":\"x\",\"y0\":1.15,\"y1\":1.1600000000000001,\"yref\":\"y domain\"}],\"showlegend\":false,\"template\":{\"data\":{\"bar\":[{\"error_x\":{\"color\":\"#2a3f5f\"},\"error_y\":{\"color\":\"#2a3f5f\"},\"marker\":{\"line\":{\"color\":\"#E5ECF6\",\"width\":0.5},\"pattern\":{\"fillmode\":\"overlay\",\"size\":10,\"solidity\":0.2}},\"type\":\"bar\"}],\"barpolar\":[{\"marker\":{\"line\":{\"color\":\"#E5ECF6\",\"width\":0.5},\"pattern\":{\"fillmode\":\"overlay\",\"size\":10,\"solidity\":0.2}},\"type\":\"barpolar\"}],\"carpet\":[{\"aaxis\":{\"endlinecolor\":\"#2a3f5f\",\"gridcolor\":\"white\",\"linecolor\":\"white\",\"minorgridcolor\":\"white\",\"startlinecolor\":\"#2a3f5f\"},\"baxis\":{\"endlinecolor\":\"#2a3f5f\",\"gridcolor\":\"white\",\"linecolor\":\"white\",\"minorgridcolor\":\"white\",\"startlinecolor\":\"#2a3f5f\"},\"type\":\"carpet\"}],\"choropleth\":[{\"colorbar\":{\"outlinewidth\":0,\"ticks\":\"\"},\"type\":\"choropleth\"}],\"contour\":[{\"colorbar\":{\"outlinewidth\":0,\"ticks\":\"\"},\"colorscale\":[[0.0,\"#0d0887\"],[0.1111111111111111,\"#46039f\"],[0.2222222222222222,\"#7201a8\"],[0.3333333333333333,\"#9c179e\"],[0.4444444444444444,\"#bd3786\"],[0.5555555555555556,\"#d8576b\"],[0.6666666666666666,\"#ed7953\"],[0.7777777777777778,\"#fb9f3a\"],[0.8888888888888888,\"#fdca26\"],[1.0,\"#f0f921\"]],\"type\":\"contour\"}],\"contourcarpet\":[{\"colorbar\":{\"outlinewidth\":0,\"ticks\":\"\"},\"type\":\"contourcarpet\"}],\"heatmap\":[{\"colorbar\":{\"outlinewidth\":0,\"ticks\":\"\"},\"colorscale\":[[0.0,\"#0d0887\"],[0.1111111111111111,\"#46039f\"],[0.2222222222222222,\"#7201a8\"],[0.3333333333333333,\"#9c179e\"],[0.4444444444444444,\"#bd3786\"],[0.5555555555555556,\"#d8576b\"],[0.6666666666666666,\"#ed7953\"],[0.7777777777777778,\"#fb9f3a\"],[0.8888888888888888,\"#fdca26\"],[1.0,\"#f0f921\"]],\"type\":\"heatmap\"}],\"heatmapgl\":[{\"colorbar\":{\"outlinewidth\":0,\"ticks\":\"\"},\"colorscale\":[[0.0,\"#0d0887\"],[0.1111111111111111,\"#46039f\"],[0.2222222222222222,\"#7201a8\"],[0.3333333333333333,\"#9c179e\"],[0.4444444444444444,\"#bd3786\"],[0.5555555555555556,\"#d8576b\"],[0.6666666666666666,\"#ed7953\"],[0.7777777777777778,\"#fb9f3a\"],[0.8888888888888888,\"#fdca26\"],[1.0,\"#f0f921\"]],\"type\":\"heatmapgl\"}],\"histogram\":[{\"marker\":{\"pattern\":{\"fillmode\":\"overlay\",\"size\":10,\"solidity\":0.2}},\"type\":\"histogram\"}],\"histogram2d\":[{\"colorbar\":{\"outlinewidth\":0,\"ticks\":\"\"},\"colorscale\":[[0.0,\"#0d0887\"],[0.1111111111111111,\"#46039f\"],[0.2222222222222222,\"#7201a8\"],[0.3333333333333333,\"#9c179e\"],[0.4444444444444444,\"#bd3786\"],[0.5555555555555556,\"#d8576b\"],[0.6666666666666666,\"#ed7953\"],[0.7777777777777778,\"#fb9f3a\"],[0.8888888888888888,\"#fdca26\"],[1.0,\"#f0f921\"]],\"type\":\"histogram2d\"}],\"histogram2dcontour\":[{\"colorbar\":{\"outlinewidth\":0,\"ticks\":\"\"},\"colorscale\":[[0.0,\"#0d0887\"],[0.1111111111111111,\"#46039f\"],[0.2222222222222222,\"#7201a8\"],[0.3333333333333333,\"#9c179e\"],[0.4444444444444444,\"#bd3786\"],[0.5555555555555556,\"#d8576b\"],[0.6666666666666666,\"#ed7953\"],[0.7777777777777778,\"#fb9f3a\"],[0.8888888888888888,\"#fdca26\"],[1.0,\"#f0f921\"]],\"type\":\"histogram2dcontour\"}],\"mesh3d\":[{\"colorbar\":{\"outlinewidth\":0,\"ticks\":\"\"},\"type\":\"mesh3d\"}],\"parcoords\":[{\"line\":{\"colorbar\":{\"outlinewidth\":0,\"ticks\":\"\"}},\"type\":\"parcoords\"}],\"pie\":[{\"automargin\":true,\"type\":\"pie\"}],\"scatter\":[{\"marker\":{\"colorbar\":{\"outlinewidth\":0,\"ticks\":\"\"}},\"type\":\"scatter\"}],\"scatter3d\":[{\"line\":{\"colorbar\":{\"outlinewidth\":0,\"ticks\":\"\"}},\"marker\":{\"colorbar\":{\"outlinewidth\":0,\"ticks\":\"\"}},\"type\":\"scatter3d\"}],\"scattercarpet\":[{\"marker\":{\"colorbar\":{\"outlinewidth\":0,\"ticks\":\"\"}},\"type\":\"scattercarpet\"}],\"scattergeo\":[{\"marker\":{\"colorbar\":{\"outlinewidth\":0,\"ticks\":\"\"}},\"type\":\"scattergeo\"}],\"scattergl\":[{\"marker\":{\"colorbar\":{\"outlinewidth\":0,\"ticks\":\"\"}},\"type\":\"scattergl\"}],\"scattermapbox\":[{\"marker\":{\"colorbar\":{\"outlinewidth\":0,\"ticks\":\"\"}},\"type\":\"scattermapbox\"}],\"scatterpolar\":[{\"marker\":{\"colorbar\":{\"outlinewidth\":0,\"ticks\":\"\"}},\"type\":\"scatterpolar\"}],\"scatterpolargl\":[{\"marker\":{\"colorbar\":{\"outlinewidth\":0,\"ticks\":\"\"}},\"type\":\"scatterpolargl\"}],\"scatterternary\":[{\"marker\":{\"colorbar\":{\"outlinewidth\":0,\"ticks\":\"\"}},\"type\":\"scatterternary\"}],\"surface\":[{\"colorbar\":{\"outlinewidth\":0,\"ticks\":\"\"},\"colorscale\":[[0.0,\"#0d0887\"],[0.1111111111111111,\"#46039f\"],[0.2222222222222222,\"#7201a8\"],[0.3333333333333333,\"#9c179e\"],[0.4444444444444444,\"#bd3786\"],[0.5555555555555556,\"#d8576b\"],[0.6666666666666666,\"#ed7953\"],[0.7777777777777778,\"#fb9f3a\"],[0.8888888888888888,\"#fdca26\"],[1.0,\"#f0f921\"]],\"type\":\"surface\"}],\"table\":[{\"cells\":{\"fill\":{\"color\":\"#EBF0F8\"},\"line\":{\"color\":\"white\"}},\"header\":{\"fill\":{\"color\":\"#C8D4E3\"},\"line\":{\"color\":\"white\"}},\"type\":\"table\"}]},\"layout\":{\"annotationdefaults\":{\"arrowcolor\":\"#2a3f5f\",\"arrowhead\":0,\"arrowwidth\":1},\"autotypenumbers\":\"strict\",\"coloraxis\":{\"colorbar\":{\"outlinewidth\":0,\"ticks\":\"\"}},\"colorscale\":{\"diverging\":[[0,\"#8e0152\"],[0.1,\"#c51b7d\"],[0.2,\"#de77ae\"],[0.3,\"#f1b6da\"],[0.4,\"#fde0ef\"],[0.5,\"#f7f7f7\"],[0.6,\"#e6f5d0\"],[0.7,\"#b8e186\"],[0.8,\"#7fbc41\"],[0.9,\"#4d9221\"],[1,\"#276419\"]],\"sequential\":[[0.0,\"#0d0887\"],[0.1111111111111111,\"#46039f\"],[0.2222222222222222,\"#7201a8\"],[0.3333333333333333,\"#9c179e\"],[0.4444444444444444,\"#bd3786\"],[0.5555555555555556,\"#d8576b\"],[0.6666666666666666,\"#ed7953\"],[0.7777777777777778,\"#fb9f3a\"],[0.8888888888888888,\"#fdca26\"],[1.0,\"#f0f921\"]],\"sequentialminus\":[[0.0,\"#0d0887\"],[0.1111111111111111,\"#46039f\"],[0.2222222222222222,\"#7201a8\"],[0.3333333333333333,\"#9c179e\"],[0.4444444444444444,\"#bd3786\"],[0.5555555555555556,\"#d8576b\"],[0.6666666666666666,\"#ed7953\"],[0.7777777777777778,\"#fb9f3a\"],[0.8888888888888888,\"#fdca26\"],[1.0,\"#f0f921\"]]},\"colorway\":[\"#636efa\",\"#EF553B\",\"#00cc96\",\"#ab63fa\",\"#FFA15A\",\"#19d3f3\",\"#FF6692\",\"#B6E880\",\"#FF97FF\",\"#FECB52\"],\"font\":{\"color\":\"#2a3f5f\"},\"geo\":{\"bgcolor\":\"white\",\"lakecolor\":\"white\",\"landcolor\":\"#E5ECF6\",\"showlakes\":true,\"showland\":true,\"subunitcolor\":\"white\"},\"hoverlabel\":{\"align\":\"left\"},\"hovermode\":\"closest\",\"mapbox\":{\"style\":\"light\"},\"paper_bgcolor\":\"white\",\"plot_bgcolor\":\"#E5ECF6\",\"polar\":{\"angularaxis\":{\"gridcolor\":\"white\",\"linecolor\":\"white\",\"ticks\":\"\"},\"bgcolor\":\"#E5ECF6\",\"radialaxis\":{\"gridcolor\":\"white\",\"linecolor\":\"white\",\"ticks\":\"\"}},\"scene\":{\"xaxis\":{\"backgroundcolor\":\"#E5ECF6\",\"gridcolor\":\"white\",\"gridwidth\":2,\"linecolor\":\"white\",\"showbackground\":true,\"ticks\":\"\",\"zerolinecolor\":\"white\"},\"yaxis\":{\"backgroundcolor\":\"#E5ECF6\",\"gridcolor\":\"white\",\"gridwidth\":2,\"linecolor\":\"white\",\"showbackground\":true,\"ticks\":\"\",\"zerolinecolor\":\"white\"},\"zaxis\":{\"backgroundcolor\":\"#E5ECF6\",\"gridcolor\":\"white\",\"gridwidth\":2,\"linecolor\":\"white\",\"showbackground\":true,\"ticks\":\"\",\"zerolinecolor\":\"white\"}},\"shapedefaults\":{\"line\":{\"color\":\"#2a3f5f\"}},\"ternary\":{\"aaxis\":{\"gridcolor\":\"white\",\"linecolor\":\"white\",\"ticks\":\"\"},\"baxis\":{\"gridcolor\":\"white\",\"linecolor\":\"white\",\"ticks\":\"\"},\"bgcolor\":\"#E5ECF6\",\"caxis\":{\"gridcolor\":\"white\",\"linecolor\":\"white\",\"ticks\":\"\"}},\"title\":{\"x\":0.05},\"xaxis\":{\"automargin\":true,\"gridcolor\":\"white\",\"linecolor\":\"white\",\"ticks\":\"\",\"title\":{\"standoff\":15},\"zerolinecolor\":\"white\",\"zerolinewidth\":2},\"yaxis\":{\"automargin\":true,\"gridcolor\":\"white\",\"linecolor\":\"white\",\"ticks\":\"\",\"title\":{\"standoff\":15},\"zerolinecolor\":\"white\",\"zerolinewidth\":2}}},\"width\":820,\"xaxis\":{\"title\":{\"text\":\"HD vs. CMV -  Multi-Cell Classification\"}},\"yaxis\":{\"range\":[0.2,1.001],\"title\":{\"text\":\"F-score\"}}},                        {\"responsive\": true}                    ).then(function(){\n",
       "                            \n",
       "var gd = document.getElementById('2713c97f-2ed2-4861-a847-ac51afbb25fb');\n",
       "var x = new MutationObserver(function (mutations, observer) {{\n",
       "        var display = window.getComputedStyle(gd).display;\n",
       "        if (!display || display === 'none') {{\n",
       "            console.log([gd, 'removed!']);\n",
       "            Plotly.purge(gd);\n",
       "            observer.disconnect();\n",
       "        }}\n",
       "}});\n",
       "\n",
       "// Listen for the removal of the full notebook cells\n",
       "var notebookContainer = gd.closest('#notebook-container');\n",
       "if (notebookContainer) {{\n",
       "    x.observe(notebookContainer, {childList: true});\n",
       "}}\n",
       "\n",
       "// Listen for the clearing of the current output cell\n",
       "var outputEl = gd.closest('.output');\n",
       "if (outputEl) {{\n",
       "    x.observe(outputEl, {childList: true});\n",
       "}}\n",
       "\n",
       "                        })                };                });            </script>        </div>"
      ]
     },
     "metadata": {},
     "output_type": "display_data"
    }
   ],
   "source": [
    "import plotly.express as px\n",
    "import pandas\n",
    "import plotly.graph_objects as go\n",
    "import os\n",
    "experiment = 'CMV'\n",
    "sampling = 'BagSample'\n",
    "metric= 'F-score'\n",
    "\n",
    "fileToWrite = 'AccuracyFigures/'+experiment+'_'+sampling+'_'+metric\n",
    "fileName='AllResults_'+experiment+'_10runs_'+ sampling + '.xlsx'\n",
    "\n",
    "df = pandas.read_excel(fileName)\n",
    "\n",
    "dfPhenotype = df.loc[df['Classification']== 'Phenotype Classification']\n",
    "dfMultiCell = df.loc[df['Classification']== 'Multi-cell Classification']\n",
    "# fig = px.box(dfPhenotype, x=\"Runs\", y=\"Accuracy\")\n",
    "# fig.show()\n",
    "colors = ['rgba(93, 164, 214, 0.5)', 'rgba(255, 144, 14, 0.5)', 'rgba(44, 160, 101, 0.5)',\n",
    "          'rgba(255, 65, 54, 0.5)', 'rgba(207, 114, 255, 0.5)', 'rgba(127, 96, 0, 0.5)']\n",
    "\n",
    "\n",
    "#Phenotype classification data to color.. \n",
    "cellcnn = dfPhenotype.loc[dfPhenotype['Runs']== 'CellCnn Centralized']\n",
    "local2 = dfPhenotype.loc[dfPhenotype['Runs']== 'Local_2']\n",
    "local4 = dfPhenotype.loc[dfPhenotype['Runs']== 'Local_3']\n",
    "local6 = dfPhenotype.loc[dfPhenotype['Runs']== 'Local_5']\n",
    "peg2 = dfPhenotype.loc[dfPhenotype['Runs']== 'PriCell (N=2)']\n",
    "peg4 = dfPhenotype.loc[dfPhenotype['Runs']== 'PriCell (N=3)']\n",
    "peg6 = dfPhenotype.loc[dfPhenotype['Runs']== 'PriCell (N=5)']\n",
    "\n",
    "fig = go.Figure()\n",
    "fig.add_trace(go.Box(y=cellcnn[metric],name='CellCnn <br>  Centralized',\n",
    "                marker_color = 'indianred'))\n",
    "fig.add_trace(go.Box(y=local2[metric], name='Local <br>  (N=2)',\n",
    "                marker_color = 'lightseagreen'  ))\n",
    "fig.add_trace(go.Box(y=peg2[metric], name='<i>PriCell</i> <br>  (N=2)',\n",
    "                marker_color = 'blue'  ))\n",
    "fig.add_trace(go.Box(y=local4[metric], name='Local  <br> (N=3)',\n",
    "                marker_color = 'lightseagreen'  ))\n",
    "fig.add_trace(go.Box(y=peg4[metric], name='<i>PriCell</i> <br> (N=3)',\n",
    "                marker_color = 'blue'  ))\n",
    "fig.add_trace(go.Box(y=local6[metric], name='Local  <br> (N=5)',\n",
    "                marker_color = 'lightseagreen' ))\n",
    "fig.add_trace(go.Box(y=peg6[metric], name='<i>PriCell</i> <br> (N=5)',\n",
    "                marker_color = 'blue' ))\n",
    "\n",
    "\n",
    "fig.update_layout(\n",
    "#     title_text='HD vs. '+experiment+' -  Phenotype Classification', title_x=0.5,\n",
    "    yaxis_title=metric,\n",
    "    xaxis_title='HD vs. '+experiment+' -  Phenotype Classification',\n",
    "    boxgap=0,\n",
    "    paper_bgcolor='rgb(243, 243, 243)',\n",
    "    plot_bgcolor='rgb(243, 243, 243)',\n",
    "    showlegend=False\n",
    ")\n",
    "fig.update_layout(\n",
    "    plot_bgcolor='aliceblue',\n",
    "    font=dict(\n",
    "#         family=\"Courier New, monospace\",\n",
    "        size=18\n",
    "    )\n",
    "\n",
    ")\n",
    "fig.update_yaxes(range=[0.2, 1.001])\n",
    "# fig.update_traces(notched=True)\n",
    "\n",
    "fig.update_layout(\n",
    "    autosize=False,\n",
    "    width=820,\n",
    "    height=550\n",
    ")\n",
    "fig.add_hline(y=pandas.DataFrame.median(cellcnn[metric]), line_width=3, line_dash=\"dash\", line_color=\"green\")\n",
    "\n",
    "fig = add_p_value_annotation(fig, [[0,2], [0,4], [0,6]])\n",
    "fig.show()\n",
    "fig.write_image(fileToWrite+\"_Phenotype.pdf\")\n",
    "#======================================================================================================#\n",
    "\n",
    "#Multi-Cell classification data to color.. \n",
    "cellcnn = dfMultiCell.loc[dfMultiCell['Runs']== 'CellCnn Centralized']\n",
    "local2 = dfMultiCell.loc[dfMultiCell['Runs']== 'Local_2']\n",
    "local4 = dfMultiCell.loc[dfMultiCell['Runs']== 'Local_3']\n",
    "local6 = dfMultiCell.loc[dfMultiCell['Runs']== 'Local_5']\n",
    "peg2 = dfMultiCell.loc[dfMultiCell['Runs']== 'PriCell (N=2)']\n",
    "peg4 = dfMultiCell.loc[dfMultiCell['Runs']== 'PriCell (N=3)']\n",
    "peg6 = dfMultiCell.loc[dfMultiCell['Runs']== 'PriCell (N=5)']\n",
    "\n",
    "fig = go.Figure()\n",
    "fig.add_trace(go.Box(y=cellcnn[metric],name='CellCnn  <br> Centralized',\n",
    "                marker_color = 'indianred' ))\n",
    "fig.add_trace(go.Box(y=local2[metric], name='Local  <br> (N=2)',\n",
    "                marker_color = 'lightseagreen' ))\n",
    "fig.add_trace(go.Box(y=peg2[metric], name='<i>PriCell</i> <br>  (N=2)',\n",
    "                marker_color = 'blue' ))\n",
    "fig.add_trace(go.Box(y=local4[metric], name='Local <br>  (N=3)',\n",
    "                marker_color = 'lightseagreen' ))\n",
    "fig.add_trace(go.Box(y=peg4[metric], name='<i>PriCell</i> <br> (N=3)',\n",
    "                marker_color = 'blue' ))\n",
    "fig.add_trace(go.Box(y=local6[metric], name='Local <br>  (N=5)',\n",
    "                marker_color = 'lightseagreen' ))\n",
    "fig.add_trace(go.Box(y=peg6[metric], name='<i>PriCell</i> <br>  (N=5)',\n",
    "                marker_color = 'blue' ))\n",
    "\n",
    "fig.update_layout(\n",
    "#     title_text='HD vs. '+experiment+' -  Multi-Cell Classification', title_x=0.5,\n",
    "    yaxis_title=metric,\n",
    "    xaxis_title='HD vs. '+experiment+' -  Multi-Cell Classification',\n",
    "    boxgap=0,\n",
    "    paper_bgcolor='rgb(243, 243, 243)',\n",
    "    plot_bgcolor='rgb(243, 243, 243)',\n",
    "    showlegend=False\n",
    ")\n",
    "fig.update_layout(\n",
    "    plot_bgcolor='aliceblue',\n",
    "    font=dict(\n",
    "#         family=\"Courier New, monospace\",\n",
    "        size=18\n",
    "    )\n",
    "\n",
    ")\n",
    "fig.update_yaxes(range=[0.2, 1.001])\n",
    "# fig.update_traces(notched=True)\n",
    "\n",
    "fig.update_layout(\n",
    "    autosize=False,\n",
    "    width=820,\n",
    "    height=550\n",
    ")\n",
    "fig.add_hline(y=pandas.DataFrame.median(cellcnn[metric]), line_width=3, line_dash=\"dash\", line_color=\"green\")\n",
    "fig = add_p_value_annotation(fig, [[0,2], [0,4], [0,6]])\n",
    "fig.show()\n",
    "fig.write_image(fileToWrite+\"_MultiCell.pdf\")"
   ]
  },
  {
   "cell_type": "code",
   "execution_count": null,
   "metadata": {},
   "outputs": [],
   "source": []
  },
  {
   "cell_type": "code",
   "execution_count": null,
   "metadata": {},
   "outputs": [],
   "source": []
  }
 ],
 "metadata": {
  "kernelspec": {
   "display_name": "Python 3.6 (tensorflow)",
   "language": "python",
   "name": "tensorflow"
  },
  "language_info": {
   "codemirror_mode": {
    "name": "ipython",
    "version": 3
   },
   "file_extension": ".py",
   "mimetype": "text/x-python",
   "name": "python",
   "nbconvert_exporter": "python",
   "pygments_lexer": "ipython3",
   "version": "3.7.9"
  }
 },
 "nbformat": 4,
 "nbformat_minor": 4
}
