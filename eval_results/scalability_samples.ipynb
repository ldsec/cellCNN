{
 "cells": [
  {
   "cell_type": "code",
   "execution_count": 3,
   "metadata": {},
   "outputs": [
    {
     "data": {
      "image/png": "[encoded data removed]",
      "text/plain": [
       "<Figure size 504x360 with 1 Axes>"
      ]
     },
     "metadata": {
      "needs_background": "light"
     },
     "output_type": "display_data"
    }
   ],
   "source": [
    "import matplotlib.pyplot as plt\n",
    "import matplotlib\n",
    "import pandas as pd\n",
    "\n",
    "font = {'family': 'Bitstream Vera Sans',\n",
    "        'size': 15}\n",
    "\n",
    "plt.rc('font', **font)\n",
    "\n",
    "raw_data = {'#rows': ['1K', '2K', '4K', '8K', '16K', '32K'],\n",
    "            'total': [19,\n",
    "                      37.9,\n",
    "                      74.4,\n",
    "                      149.11,\n",
    "                      295.3,\n",
    "                      589],\n",
    "            }\n",
    "\n",
    "df = pd.DataFrame(raw_data, raw_data['#rows'])\n",
    "\n",
    "# Create the general plot and the \"subplots\" i.e. the bars\n",
    "f, ax = plt.subplots(1, figsize=(7, 5))\n",
    "\n",
    "# Set the bar width\n",
    "bar_width = 0.5\n",
    "\n",
    "# Positions of the left bar-boundaries\n",
    "bar = [1, 1.7, 2.4, 3.1, 3.8, 4.5]\n",
    "\n",
    "# Positions of the x-axis ticks (center of the bars as bar labels)\n",
    "tick_pos = [pos for pos in bar]\n",
    "\n",
    "ax.bar(bar, df['total'], width=bar_width, alpha=0.8, color='#002642')\n",
    "\n",
    "# Set the x ticks with names\n",
    "plt.xticks(tick_pos, df['#rows'])\n",
    "\n",
    "# Set the label and legends\n",
    "ax.set_ylabel(\"Runtime (s)\", fontsize=17)\n",
    "ax.set_xlabel(\"n\", fontsize=17)\n",
    "ax.get_yaxis().set_major_formatter(matplotlib.ticker.ScalarFormatter())\n",
    "\n",
    "ax.set_yscale('log')\n",
    "ax.set_yticks([5, 50, 200, 500, 1000, 5000])\n",
    "ax.get_yaxis().set_major_formatter(matplotlib.ticker.ScalarFormatter())\n",
    "\n",
    "ax.tick_params(axis='x', labelsize=17)\n",
    "ax.tick_params(axis='y', labelsize=17)\n",
    "\n",
    "ax.text(bar[0]-0.1, df['total'][0]+2, int(df['total'][0]), fontsize=14, weight='bold', color='black')\n",
    "ax.text(bar[1]-0.2, df['total'][1]+4, df['total'][1], fontsize=14, weight='bold', color='black')\n",
    "ax.text(bar[2]-0.2, df['total'][2]+8, df['total'][2], fontsize=14, weight='bold', color='black')\n",
    "ax.text(bar[3]-0.17, df['total'][3]+16, int(df['total'][3]), fontsize=14, weight='bold', color='black')\n",
    "ax.text(bar[4]-0.17, df['total'][4]+32, int(df['total'][4]), fontsize=14, weight='bold', color='black')\n",
    "ax.text(bar[5]-0.17, df['total'][5]+64, int(df['total'][5]), fontsize=14, weight='bold', color='black')\n",
    "\n",
    "\n",
    "plt.xlim([min(bar) - bar_width, max(bar) + bar_width])\n",
    "plt.ylim(1, 1500)\n",
    "\n",
    "plt.savefig('scalingData.pdf', bbox_inches='tight', pad_inches=0)"
   ]
  },
  {
   "cell_type": "code",
   "execution_count": null,
   "metadata": {},
   "outputs": [],
   "source": []
  }
 ],
 "metadata": {
  "kernelspec": {
   "display_name": "Python 3.6 (tensorflow)",
   "language": "python",
   "name": "tensorflow"
  },
  "language_info": {
   "codemirror_mode": {
    "name": "ipython",
    "version": 3
   },
   "file_extension": ".py",
   "mimetype": "text/x-python",
   "name": "python",
   "nbconvert_exporter": "python",
   "pygments_lexer": "ipython3",
   "version": "3.7.9"
  }
 },
 "nbformat": 4,
 "nbformat_minor": 4
}
